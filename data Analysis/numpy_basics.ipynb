{
 "cells": [
  {
   "cell_type": "markdown",
   "metadata": {},
   "source": [
    "importing"
   ]
  },
  {
   "cell_type": "code",
   "execution_count": 1,
   "metadata": {},
   "outputs": [],
   "source": [
    "import numpy as np "
   ]
  },
  {
   "cell_type": "code",
   "execution_count": 2,
   "metadata": {},
   "outputs": [],
   "source": [
    "#set precision\n",
    "np.set_printoptions(precision=2)"
   ]
  },
  {
   "cell_type": "markdown",
   "metadata": {},
   "source": [
    "creating matrix"
   ]
  },
  {
   "cell_type": "code",
   "execution_count": 3,
   "metadata": {},
   "outputs": [
    {
     "name": "stdout",
     "output_type": "stream",
     "text": [
      "[2 5 6]\n",
      "(3,)\n",
      "int32\n"
     ]
    }
   ],
   "source": [
    "a = np.array([2,5,6])\n",
    "print(a)\n",
    "print(a.shape)\n",
    "print(a.dtype)"
   ]
  },
  {
   "cell_type": "code",
   "execution_count": 4,
   "metadata": {},
   "outputs": [
    {
     "name": "stdout",
     "output_type": "stream",
     "text": [
      "[[1 2 3]\n",
      " [4 5 6]]\n",
      "(2, 3)\n",
      "2\n"
     ]
    }
   ],
   "source": [
    "b = np.array([[1,2,3],[4,5,6]])\n",
    "print (b)\n",
    "print(b.shape)\n",
    "print(b.ndim)"
   ]
  },
  {
   "cell_type": "code",
   "execution_count": 5,
   "metadata": {},
   "outputs": [
    {
     "name": "stdout",
     "output_type": "stream",
     "text": [
      "[[[1 2]\n",
      "  [2 3]\n",
      "  [3 1]]\n",
      "\n",
      " [[1 2]\n",
      "  [3 1]\n",
      "  [3 4]]]\n",
      "(2, 3)\n",
      "2\n"
     ]
    }
   ],
   "source": [
    "c = np.array([[[1,2],[2,3],[3,1]],[[1,2],[3,1],[3,4]]])\n",
    "print(c)\n",
    "print(b.shape)\n",
    "print(b.ndim)\n"
   ]
  },
  {
   "cell_type": "markdown",
   "metadata": {},
   "source": [
    "- generate matrix \n",
    "  - linear\n",
    "      \n",
    "  - random"
   ]
  },
  {
   "cell_type": "code",
   "execution_count": 6,
   "metadata": {},
   "outputs": [
    {
     "data": {
      "text/plain": [
       "array([ 1,  6, 11, 16, 21, 26, 31, 36, 41, 46, 51, 56, 61, 66, 71, 76, 81,\n",
       "       86, 91, 96])"
      ]
     },
     "execution_count": 6,
     "metadata": {},
     "output_type": "execute_result"
    }
   ],
   "source": [
    "np.arange(1,100, 5)"
   ]
  },
  {
   "cell_type": "code",
   "execution_count": 7,
   "metadata": {},
   "outputs": [
    {
     "name": "stdout",
     "output_type": "stream",
     "text": [
      "[1.   1.25 1.5  1.75 2.   2.25 2.5  2.75 3.   3.25 3.5  3.75 4.   4.25\n",
      " 4.5  4.75 5.   5.25 5.5  5.75 6.   6.25 6.5  6.75 7.   7.25 7.5  7.75\n",
      " 8.   8.25 8.5  8.75 9.   9.25 9.5  9.75]\n"
     ]
    },
    {
     "data": {
      "text/plain": [
       "36"
      ]
     },
     "execution_count": 7,
     "metadata": {},
     "output_type": "execute_result"
    }
   ],
   "source": [
    "a = np.arange(1, 10 , .25)\n",
    "print(a)\n",
    "a.size"
   ]
  },
  {
   "cell_type": "code",
   "execution_count": 8,
   "metadata": {},
   "outputs": [
    {
     "name": "stdout",
     "output_type": "stream",
     "text": [
      "[ 1.    1.09  1.18  1.27  1.36  1.45  1.55  1.64  1.73  1.82  1.91  2.\n",
      "  2.09  2.18  2.27  2.36  2.45  2.55  2.64  2.73  2.82  2.91  3.    3.09\n",
      "  3.18  3.27  3.36  3.45  3.55  3.64  3.73  3.82  3.91  4.    4.09  4.18\n",
      "  4.27  4.36  4.45  4.55  4.64  4.73  4.82  4.91  5.    5.09  5.18  5.27\n",
      "  5.36  5.45  5.55  5.64  5.73  5.82  5.91  6.    6.09  6.18  6.27  6.36\n",
      "  6.45  6.55  6.64  6.73  6.82  6.91  7.    7.09  7.18  7.27  7.36  7.45\n",
      "  7.55  7.64  7.73  7.82  7.91  8.    8.09  8.18  8.27  8.36  8.45  8.55\n",
      "  8.64  8.73  8.82  8.91  9.    9.09  9.18  9.27  9.36  9.45  9.55  9.64\n",
      "  9.73  9.82  9.91 10.  ]\n"
     ]
    }
   ],
   "source": [
    "b = np.linspace (1, 10, 100)\n",
    "print(b)"
   ]
  },
  {
   "cell_type": "code",
   "execution_count": 9,
   "metadata": {},
   "outputs": [
    {
     "data": {
      "text/plain": [
       "array([[ 1.  ,  1.09,  1.18,  1.27],\n",
       "       [ 1.36,  1.45,  1.55,  1.64],\n",
       "       [ 1.73,  1.82,  1.91,  2.  ],\n",
       "       [ 2.09,  2.18,  2.27,  2.36],\n",
       "       [ 2.45,  2.55,  2.64,  2.73],\n",
       "       [ 2.82,  2.91,  3.  ,  3.09],\n",
       "       [ 3.18,  3.27,  3.36,  3.45],\n",
       "       [ 3.55,  3.64,  3.73,  3.82],\n",
       "       [ 3.91,  4.  ,  4.09,  4.18],\n",
       "       [ 4.27,  4.36,  4.45,  4.55],\n",
       "       [ 4.64,  4.73,  4.82,  4.91],\n",
       "       [ 5.  ,  5.09,  5.18,  5.27],\n",
       "       [ 5.36,  5.45,  5.55,  5.64],\n",
       "       [ 5.73,  5.82,  5.91,  6.  ],\n",
       "       [ 6.09,  6.18,  6.27,  6.36],\n",
       "       [ 6.45,  6.55,  6.64,  6.73],\n",
       "       [ 6.82,  6.91,  7.  ,  7.09],\n",
       "       [ 7.18,  7.27,  7.36,  7.45],\n",
       "       [ 7.55,  7.64,  7.73,  7.82],\n",
       "       [ 7.91,  8.  ,  8.09,  8.18],\n",
       "       [ 8.27,  8.36,  8.45,  8.55],\n",
       "       [ 8.64,  8.73,  8.82,  8.91],\n",
       "       [ 9.  ,  9.09,  9.18,  9.27],\n",
       "       [ 9.36,  9.45,  9.55,  9.64],\n",
       "       [ 9.73,  9.82,  9.91, 10.  ]])"
      ]
     },
     "execution_count": 9,
     "metadata": {},
     "output_type": "execute_result"
    }
   ],
   "source": [
    "b.reshape(25,4)"
   ]
  },
  {
   "cell_type": "code",
   "execution_count": 10,
   "metadata": {},
   "outputs": [
    {
     "data": {
      "text/plain": [
       "array([[[ 1.  ,  1.09,  1.18,  1.27],\n",
       "        [ 1.36,  1.45,  1.55,  1.64],\n",
       "        [ 1.73,  1.82,  1.91,  2.  ],\n",
       "        [ 2.09,  2.18,  2.27,  2.36],\n",
       "        [ 2.45,  2.55,  2.64,  2.73]],\n",
       "\n",
       "       [[ 2.82,  2.91,  3.  ,  3.09],\n",
       "        [ 3.18,  3.27,  3.36,  3.45],\n",
       "        [ 3.55,  3.64,  3.73,  3.82],\n",
       "        [ 3.91,  4.  ,  4.09,  4.18],\n",
       "        [ 4.27,  4.36,  4.45,  4.55]],\n",
       "\n",
       "       [[ 4.64,  4.73,  4.82,  4.91],\n",
       "        [ 5.  ,  5.09,  5.18,  5.27],\n",
       "        [ 5.36,  5.45,  5.55,  5.64],\n",
       "        [ 5.73,  5.82,  5.91,  6.  ],\n",
       "        [ 6.09,  6.18,  6.27,  6.36]],\n",
       "\n",
       "       [[ 6.45,  6.55,  6.64,  6.73],\n",
       "        [ 6.82,  6.91,  7.  ,  7.09],\n",
       "        [ 7.18,  7.27,  7.36,  7.45],\n",
       "        [ 7.55,  7.64,  7.73,  7.82],\n",
       "        [ 7.91,  8.  ,  8.09,  8.18]],\n",
       "\n",
       "       [[ 8.27,  8.36,  8.45,  8.55],\n",
       "        [ 8.64,  8.73,  8.82,  8.91],\n",
       "        [ 9.  ,  9.09,  9.18,  9.27],\n",
       "        [ 9.36,  9.45,  9.55,  9.64],\n",
       "        [ 9.73,  9.82,  9.91, 10.  ]]])"
      ]
     },
     "execution_count": 10,
     "metadata": {},
     "output_type": "execute_result"
    }
   ],
   "source": [
    "b.reshape(5,5,4)"
   ]
  },
  {
   "cell_type": "code",
   "execution_count": 33,
   "metadata": {},
   "outputs": [
    {
     "data": {
      "text/plain": [
       "array([[0.86, 0.84, 0.09, 0.76],\n",
       "       [0.98, 0.03, 0.09, 0.89],\n",
       "       [0.34, 0.14, 0.06, 0.91],\n",
       "       [0.37, 0.31, 0.47, 0.08]])"
      ]
     },
     "execution_count": 33,
     "metadata": {},
     "output_type": "execute_result"
    }
   ],
   "source": [
    "np.random.rand(4,4)"
   ]
  },
  {
   "cell_type": "code",
   "execution_count": 12,
   "metadata": {},
   "outputs": [
    {
     "name": "stdout",
     "output_type": "stream",
     "text": [
      "\u001b[1;31mDocstring:\u001b[0m\n",
      "randn(d0, d1, ..., dn)\n",
      "\n",
      "Return a sample (or samples) from the \"standard normal\" distribution.\n",
      "\n",
      ".. note::\n",
      "    This is a convenience function for users porting code from Matlab,\n",
      "    and wraps `standard_normal`. That function takes a\n",
      "    tuple to specify the size of the output, which is consistent with\n",
      "    other NumPy functions like `numpy.zeros` and `numpy.ones`.\n",
      "\n",
      ".. note::\n",
      "    New code should use the\n",
      "    `~numpy.random.Generator.standard_normal`\n",
      "    method of a `~numpy.random.Generator` instance instead;\n",
      "    please see the :ref:`random-quick-start`.\n",
      "\n",
      "If positive int_like arguments are provided, `randn` generates an array\n",
      "of shape ``(d0, d1, ..., dn)``, filled\n",
      "with random floats sampled from a univariate \"normal\" (Gaussian)\n",
      "distribution of mean 0 and variance 1. A single float randomly sampled\n",
      "from the distribution is returned if no argument is provided.\n",
      "\n",
      "Parameters\n",
      "----------\n",
      "d0, d1, ..., dn : int, optional\n",
      "    The dimensions of the returned array, must be non-negative.\n",
      "    If no argument is given a single Python float is returned.\n",
      "\n",
      "Returns\n",
      "-------\n",
      "Z : ndarray or float\n",
      "    A ``(d0, d1, ..., dn)``-shaped array of floating-point samples from\n",
      "    the standard normal distribution, or a single such float if\n",
      "    no parameters were supplied.\n",
      "\n",
      "See Also\n",
      "--------\n",
      "standard_normal : Similar, but takes a tuple as its argument.\n",
      "normal : Also accepts mu and sigma arguments.\n",
      "random.Generator.standard_normal: which should be used for new code.\n",
      "\n",
      "Notes\n",
      "-----\n",
      "For random samples from the normal distribution with mean ``mu`` and\n",
      "standard deviation ``sigma``, use::\n",
      "\n",
      "    sigma * np.random.randn(...) + mu\n",
      "\n",
      "Examples\n",
      "--------\n",
      ">>> np.random.randn()\n",
      "2.1923875335537315  # random\n",
      "\n",
      "Two-by-four array of samples from the normal distribution with\n",
      "mean 3 and standard deviation 2.5:\n",
      "\n",
      ">>> 3 + 2.5 * np.random.randn(2, 4)\n",
      "array([[-4.49401501,  4.00950034, -1.81814867,  7.29718677],   # random\n",
      "       [ 0.39924804,  4.68456316,  4.99394529,  4.84057254]])  # random\n",
      "\u001b[1;31mType:\u001b[0m      builtin_function_or_method"
     ]
    }
   ],
   "source": [
    "np.random.randn?"
   ]
  },
  {
   "cell_type": "code",
   "execution_count": 13,
   "metadata": {},
   "outputs": [
    {
     "name": "stdout",
     "output_type": "stream",
     "text": [
      "[[ 1.69  0.33  0.92  1.28 -0.84]\n",
      " [ 1.75  1.59 -1.66 -0.35 -0.83]\n",
      " [ 0.89  0.93 -1.69  1.22 -0.62]\n",
      " [ 1.94  1.7   0.29  0.2   0.98]\n",
      " [ 1.16  0.61 -0.36  1.59 -1.26]]\n"
     ]
    }
   ],
   "source": [
    "print(np.random.randn(5,5))"
   ]
  },
  {
   "cell_type": "code",
   "execution_count": 14,
   "metadata": {},
   "outputs": [
    {
     "name": "stdout",
     "output_type": "stream",
     "text": [
      "[[19 25 82 11 37 31 78  5]\n",
      " [18 41 78 21 98 62 89 44]\n",
      " [31 47 84 66 20 83 43 35]\n",
      " [11 90 34 16 48 86 11 54]\n",
      " [19 56  7 18  4 25 75 22]]\n"
     ]
    }
   ],
   "source": [
    "print(np.random.randint(1, 100, (5,8)))"
   ]
  },
  {
   "cell_type": "code",
   "execution_count": 15,
   "metadata": {},
   "outputs": [
    {
     "name": "stdout",
     "output_type": "stream",
     "text": [
      "[[ 1  9  9]\n",
      " [ 9  1  9]\n",
      " [10  9  3]]\n",
      "[[ 6  7 10]\n",
      " [ 6  7  2]\n",
      " [ 2  4  5]]\n"
     ]
    }
   ],
   "source": [
    "x = np.random.randint(1,11,(3,3))\n",
    "y = np.random.randint(1,11,(3,3))\n",
    "print(x)\n",
    "print(y)"
   ]
  },
  {
   "cell_type": "code",
   "execution_count": 16,
   "metadata": {},
   "outputs": [
    {
     "data": {
      "text/plain": [
       "array([[ 7, 16, 19],\n",
       "       [15,  8, 11],\n",
       "       [12, 13,  8]])"
      ]
     },
     "execution_count": 16,
     "metadata": {},
     "output_type": "execute_result"
    }
   ],
   "source": [
    "x + y #element wise addiction"
   ]
  },
  {
   "cell_type": "code",
   "execution_count": 17,
   "metadata": {},
   "outputs": [
    {
     "data": {
      "text/plain": [
       "array([[-9, -1, -1],\n",
       "       [-1, -9, -1],\n",
       "       [ 0, -1, -7]])"
      ]
     },
     "execution_count": 17,
     "metadata": {},
     "output_type": "execute_result"
    }
   ],
   "source": [
    "x - 10"
   ]
  },
  {
   "cell_type": "code",
   "execution_count": 18,
   "metadata": {},
   "outputs": [
    {
     "data": {
      "text/plain": [
       "array([[ 78, 106,  73],\n",
       "       [ 78, 106, 137],\n",
       "       [120, 145, 133]])"
      ]
     },
     "execution_count": 18,
     "metadata": {},
     "output_type": "execute_result"
    }
   ],
   "source": [
    "x.dot(y)"
   ]
  },
  {
   "cell_type": "code",
   "execution_count": 19,
   "metadata": {},
   "outputs": [
    {
     "data": {
      "text/plain": [
       "array([[1, 0, 0, 0],\n",
       "       [0, 2, 0, 0],\n",
       "       [0, 0, 2, 0],\n",
       "       [0, 0, 0, 4]])"
      ]
     },
     "execution_count": 19,
     "metadata": {},
     "output_type": "execute_result"
    }
   ],
   "source": [
    "np.diag([1,2,2,4])"
   ]
  },
  {
   "cell_type": "markdown",
   "metadata": {},
   "source": [
    "21 August "
   ]
  },
  {
   "cell_type": "code",
   "execution_count": 20,
   "metadata": {},
   "outputs": [
    {
     "name": "stdout",
     "output_type": "stream",
     "text": [
      "[[21 32 30 32 30 35]\n",
      " [45 20 27 24 30 20]\n",
      " [24 36 42 41 40 27]\n",
      " [26 24 26 26 31 27]\n",
      " [22 42 23 44 40 45]\n",
      " [43 47 40 38 46 41]]\n"
     ]
    }
   ],
   "source": [
    "x = np.random.randint(20, 50, (6,6))\n",
    "print(x)"
   ]
  },
  {
   "cell_type": "code",
   "execution_count": 21,
   "metadata": {},
   "outputs": [
    {
     "name": "stdout",
     "output_type": "stream",
     "text": [
      "[32 32 35 45 36 42 41 40 31 42 44 40 45 43 47 40 38 46 41]\n"
     ]
    }
   ],
   "source": [
    "z = []\n",
    "for i in x:\n",
    "    for j in i :\n",
    "        if j > 30:\n",
    "            z.append(j)\n",
    "print(np.array(z))\n",
    "#this is not the best way             "
   ]
  },
  {
   "cell_type": "code",
   "execution_count": 22,
   "metadata": {},
   "outputs": [
    {
     "data": {
      "text/plain": [
       "array([[False,  True, False,  True, False,  True],\n",
       "       [ True, False, False, False, False, False],\n",
       "       [False,  True,  True,  True,  True, False],\n",
       "       [False, False, False, False,  True, False],\n",
       "       [False,  True, False,  True,  True,  True],\n",
       "       [ True,  True,  True,  True,  True,  True]])"
      ]
     },
     "execution_count": 22,
     "metadata": {},
     "output_type": "execute_result"
    }
   ],
   "source": [
    "x > 30 #filter"
   ]
  },
  {
   "cell_type": "code",
   "execution_count": 23,
   "metadata": {},
   "outputs": [
    {
     "name": "stdout",
     "output_type": "stream",
     "text": [
      "[32 32 35 45 36 42 41 40 31 42 44 40 45 43 47 40 38 46 41]\n"
     ]
    }
   ],
   "source": [
    "print(x[x>30])  #boolean filtering "
   ]
  },
  {
   "cell_type": "code",
   "execution_count": 24,
   "metadata": {},
   "outputs": [
    {
     "data": {
      "text/plain": [
       "array([21, 32, 30, 32, 30, 35, 20, 27, 24, 30, 20, 24, 36, 27, 26, 24, 26,\n",
       "       26, 31, 27, 22, 23, 38])"
      ]
     },
     "execution_count": 24,
     "metadata": {},
     "output_type": "execute_result"
    }
   ],
   "source": [
    "f = x < 40 #write filter in variable \n",
    "x[f] "
   ]
  },
  {
   "cell_type": "code",
   "execution_count": 25,
   "metadata": {},
   "outputs": [
    {
     "data": {
      "text/plain": [
       "array([32, 32, 35, 36, 42, 41, 40, 31, 42, 44, 40, 43, 40, 38, 41])"
      ]
     },
     "execution_count": 25,
     "metadata": {},
     "output_type": "execute_result"
    }
   ],
   "source": [
    "x[(x>30) & (x<45)]"
   ]
  },
  {
   "cell_type": "code",
   "execution_count": 26,
   "metadata": {},
   "outputs": [
    {
     "data": {
      "text/plain": [
       "array([32, 32, 35, 36, 42, 41, 40, 31, 42, 44, 40, 43, 40, 38, 41])"
      ]
     },
     "execution_count": 26,
     "metadata": {},
     "output_type": "execute_result"
    }
   ],
   "source": [
    "f1 = x >30\n",
    "f2 = x < 45\n",
    "x[f1 & f2]"
   ]
  },
  {
   "cell_type": "markdown",
   "metadata": {},
   "source": [
    "slicing \n",
    "1D = `[START : STOP : STEP]`\n",
    "\n",
    "2D  = [r_start : r_stop : r_step : c_start : c_stop : c_step]"
   ]
  },
  {
   "cell_type": "code",
   "execution_count": 27,
   "metadata": {},
   "outputs": [
    {
     "name": "stdout",
     "output_type": "stream",
     "text": [
      "first row\n",
      "[21 32 30 32 30 35]\n"
     ]
    }
   ],
   "source": [
    "print('first row' )\n",
    "print(x[0])"
   ]
  },
  {
   "cell_type": "code",
   "execution_count": 28,
   "metadata": {},
   "outputs": [
    {
     "name": "stdout",
     "output_type": "stream",
     "text": [
      "last row\n",
      "[43 47 40 38 46 41]\n"
     ]
    }
   ],
   "source": [
    "print('last row')\n",
    "print(x[-1])"
   ]
  },
  {
   "cell_type": "code",
   "execution_count": 29,
   "metadata": {},
   "outputs": [
    {
     "name": "stdout",
     "output_type": "stream",
     "text": [
      "slice 2 to 5\n",
      "[[24 36 42 41 40 27]\n",
      " [26 24 26 26 31 27]\n",
      " [22 42 23 44 40 45]\n",
      " [43 47 40 38 46 41]]\n"
     ]
    }
   ],
   "source": [
    "print('slice 2 to 5')\n",
    "print(x[2:6])"
   ]
  },
  {
   "cell_type": "code",
   "execution_count": 30,
   "metadata": {},
   "outputs": [
    {
     "data": {
      "text/plain": [
       "array([21, 45, 24, 26, 22, 43])"
      ]
     },
     "execution_count": 30,
     "metadata": {},
     "output_type": "execute_result"
    }
   ],
   "source": [
    "x [:,0]"
   ]
  },
  {
   "cell_type": "code",
   "execution_count": 31,
   "metadata": {},
   "outputs": [
    {
     "data": {
      "text/plain": [
       "array([[21, 32, 30],\n",
       "       [45, 20, 27],\n",
       "       [24, 36, 42],\n",
       "       [26, 24, 26],\n",
       "       [22, 42, 23],\n",
       "       [43, 47, 40]])"
      ]
     },
     "execution_count": 31,
     "metadata": {},
     "output_type": "execute_result"
    }
   ],
   "source": [
    "x[:,:3] #select first 3 columns"
   ]
  },
  {
   "cell_type": "code",
   "execution_count": 32,
   "metadata": {},
   "outputs": [
    {
     "data": {
      "text/plain": [
       "array([[21, 32, 30],\n",
       "       [45, 20, 27],\n",
       "       [24, 36, 42],\n",
       "       [26, 24, 26],\n",
       "       [22, 42, 23],\n",
       "       [43, 47, 40]])"
      ]
     },
     "execution_count": 32,
     "metadata": {},
     "output_type": "execute_result"
    }
   ],
   "source": [
    "x[:,:-3] #select last 3 columns"
   ]
  },
  {
   "cell_type": "code",
   "execution_count": null,
   "metadata": {},
   "outputs": [],
   "source": []
  }
 ],
 "metadata": {
  "kernelspec": {
   "display_name": "base",
   "language": "python",
   "name": "python3"
  },
  "language_info": {
   "codemirror_mode": {
    "name": "ipython",
    "version": 3
   },
   "file_extension": ".py",
   "mimetype": "text/x-python",
   "name": "python",
   "nbconvert_exporter": "python",
   "pygments_lexer": "ipython3",
   "version": "3.11.4"
  },
  "orig_nbformat": 4
 },
 "nbformat": 4,
 "nbformat_minor": 2
}
