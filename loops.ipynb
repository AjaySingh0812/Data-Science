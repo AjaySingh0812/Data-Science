{
 "cells": [
  {
   "cell_type": "code",
   "execution_count": 1,
   "metadata": {},
   "outputs": [
    {
     "name": "stdout",
     "output_type": "stream",
     "text": [
      "0123456789"
     ]
    }
   ],
   "source": [
    "for i in range (10):\n",
    "    print (i, end='')"
   ]
  },
  {
   "cell_type": "code",
   "execution_count": 5,
   "metadata": {},
   "outputs": [
    {
     "name": "stdout",
     "output_type": "stream",
     "text": [
      "10 9 8 7 6 5 4 3 2 1 "
     ]
    }
   ],
   "source": [
    "for i in range (10, 0, -1):\n",
    "    print (i, end= ' ')"
   ]
  },
  {
   "cell_type": "code",
   "execution_count": 6,
   "metadata": {},
   "outputs": [
    {
     "name": "stdout",
     "output_type": "stream",
     "text": [
      "12 45 56 53 59 10 34 563 "
     ]
    }
   ],
   "source": [
    "data = [12, 45, 56, 53, 59, 10, 34, 563]\n",
    "# traversal of list \n",
    "for item in data:\n",
    "    print(item, end =' ')"
   ]
  },
  {
   "cell_type": "code",
   "execution_count": 7,
   "metadata": {},
   "outputs": [
    {
     "name": "stdout",
     "output_type": "stream",
     "text": [
      "12\n",
      "45\n",
      "56\n",
      "53\n",
      "59\n",
      "10\n",
      "34\n",
      "563\n"
     ]
    }
   ],
   "source": [
    "prices = [12, 45, None,56,53,None, 59,10,None, 34,563]\n",
    "for pr in prices:\n",
    "    if pr is None:\n",
    "        continue\n",
    "    print(pr)"
   ]
  },
  {
   "cell_type": "code",
   "execution_count": 9,
   "metadata": {},
   "outputs": [
    {
     "name": "stdout",
     "output_type": "stream",
     "text": [
      "12 45 56 53 59 10 34 563 "
     ]
    }
   ],
   "source": [
    "prices = [12, 45, None,56,53,None, 59,10,None, 34,563]\n",
    "for i in prices:\n",
    "    if (i== None):\n",
    "        continue\n",
    "    print(i,end=' ')"
   ]
  },
  {
   "cell_type": "code",
   "execution_count": 11,
   "metadata": {},
   "outputs": [
    {
     "name": "stdout",
     "output_type": "stream",
     "text": [
      "12\n",
      "45\n",
      "the end \n"
     ]
    }
   ],
   "source": [
    "prices = [12, 45, None,56,53,None, 59,10,None, 34,563]\n",
    "for item in prices:\n",
    "    if item is None:\n",
    "        break\n",
    "    print(item)\n",
    "print('the end ')    \n"
   ]
  },
  {
   "cell_type": "code",
   "execution_count": 12,
   "metadata": {},
   "outputs": [
    {
     "name": "stdout",
     "output_type": "stream",
     "text": [
      "1\n",
      "1 2 3 \n",
      "2\n",
      "1 2 3 \n",
      "3\n",
      "1 2 3 \n",
      "4\n",
      "1 2 3 \n",
      "5\n",
      "1 2 3 \n"
     ]
    }
   ],
   "source": [
    "for i in range(1,6):\n",
    "    print(i)\n",
    "    for j in range(1,4):\n",
    "        print(j, end=' ')\n",
    "    print()    "
   ]
  },
  {
   "cell_type": "code",
   "execution_count": 13,
   "metadata": {},
   "outputs": [
    {
     "name": "stdout",
     "output_type": "stream",
     "text": [
      "1\n",
      "1 2 3 \n",
      "2\n",
      "2 4 6 \n",
      "3\n",
      "3 6 9 \n",
      "4\n",
      "4 8 12 \n",
      "5\n",
      "5 10 15 \n"
     ]
    }
   ],
   "source": [
    "for i in range(1,6):\n",
    "    print(i)\n",
    "    for j in range(1,4):\n",
    "        print(i*j, end=' ')\n",
    "    print() "
   ]
  },
  {
   "cell_type": "code",
   "execution_count": 17,
   "metadata": {},
   "outputs": [
    {
     "name": "stdout",
     "output_type": "stream",
     "text": [
      " \n",
      "*    \n",
      "*   *    \n",
      "*   *   *    \n",
      "*   *   *   *    \n",
      "*   *   *   *   *    \n"
     ]
    }
   ],
   "source": [
    "for i in range(6):\n",
    "    for j in range(i):\n",
    "        print(\"*\", end='   ')\n",
    "    print(\" \")"
   ]
  },
  {
   "cell_type": "code",
   "execution_count": null,
   "metadata": {},
   "outputs": [],
   "source": []
  },
  {
   "cell_type": "code",
   "execution_count": null,
   "metadata": {},
   "outputs": [],
   "source": []
  }
 ],
 "metadata": {
  "kernelspec": {
   "display_name": "base",
   "language": "python",
   "name": "python3"
  },
  "language_info": {
   "codemirror_mode": {
    "name": "ipython",
    "version": 3
   },
   "file_extension": ".py",
   "mimetype": "text/x-python",
   "name": "python",
   "nbconvert_exporter": "python",
   "pygments_lexer": "ipython3",
   "version": "3.11.4"
  },
  "orig_nbformat": 4
 },
 "nbformat": 4,
 "nbformat_minor": 2
}
