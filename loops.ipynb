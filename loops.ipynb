{
 "cells": [
  {
   "cell_type": "code",
   "execution_count": 1,
   "metadata": {},
   "outputs": [
    {
     "name": "stdout",
     "output_type": "stream",
     "text": [
      "0123456789"
     ]
    }
   ],
   "source": [
    "for i in range (10):\n",
    "    print (i, end='')"
   ]
  },
  {
   "cell_type": "code",
   "execution_count": 5,
   "metadata": {},
   "outputs": [
    {
     "name": "stdout",
     "output_type": "stream",
     "text": [
      "10 9 8 7 6 5 4 3 2 1 "
     ]
    }
   ],
   "source": [
    "for i in range (10, 0, -1):\n",
    "    print (i, end= ' ')"
   ]
  },
  {
   "cell_type": "code",
   "execution_count": 6,
   "metadata": {},
   "outputs": [
    {
     "name": "stdout",
     "output_type": "stream",
     "text": [
      "12 45 56 53 59 10 34 563 "
     ]
    }
   ],
   "source": [
    "data = [12, 45, 56, 53, 59, 10, 34, 563]\n",
    "# traversal of list \n",
    "for item in data:\n",
    "    print(item, end =' ')"
   ]
  },
  {
   "cell_type": "code",
   "execution_count": 7,
   "metadata": {},
   "outputs": [
    {
     "name": "stdout",
     "output_type": "stream",
     "text": [
      "12\n",
      "45\n",
      "56\n",
      "53\n",
      "59\n",
      "10\n",
      "34\n",
      "563\n"
     ]
    }
   ],
   "source": [
    "prices = [12, 45, None,56,53,None, 59,10,None, 34,563]\n",
    "for pr in prices:\n",
    "    if pr is None:\n",
    "        continue\n",
    "    print(pr)"
   ]
  },
  {
   "cell_type": "code",
   "execution_count": 9,
   "metadata": {},
   "outputs": [
    {
     "name": "stdout",
     "output_type": "stream",
     "text": [
      "12 45 56 53 59 10 34 563 "
     ]
    }
   ],
   "source": [
    "prices = [12, 45, None,56,53,None, 59,10,None, 34,563]\n",
    "for i in prices:\n",
    "    if (i== None):\n",
    "        continue\n",
    "    print(i,end=' ')"
   ]
  },
  {
   "cell_type": "code",
   "execution_count": 11,
   "metadata": {},
   "outputs": [
    {
     "name": "stdout",
     "output_type": "stream",
     "text": [
      "12\n",
      "45\n",
      "the end \n"
     ]
    }
   ],
   "source": [
    "prices = [12, 45, None,56,53,None, 59,10,None, 34,563]\n",
    "for item in prices:\n",
    "    if item is None:\n",
    "        break\n",
    "    print(item)\n",
    "print('the end ')    \n"
   ]
  },
  {
   "cell_type": "code",
   "execution_count": 12,
   "metadata": {},
   "outputs": [
    {
     "name": "stdout",
     "output_type": "stream",
     "text": [
      "1\n",
      "1 2 3 \n",
      "2\n",
      "1 2 3 \n",
      "3\n",
      "1 2 3 \n",
      "4\n",
      "1 2 3 \n",
      "5\n",
      "1 2 3 \n"
     ]
    }
   ],
   "source": [
    "for i in range(1,6):\n",
    "    print(i)\n",
    "    for j in range(1,4):\n",
    "        print(j, end=' ')\n",
    "    print()    "
   ]
  },
  {
   "cell_type": "code",
   "execution_count": 13,
   "metadata": {},
   "outputs": [
    {
     "name": "stdout",
     "output_type": "stream",
     "text": [
      "1\n",
      "1 2 3 \n",
      "2\n",
      "2 4 6 \n",
      "3\n",
      "3 6 9 \n",
      "4\n",
      "4 8 12 \n",
      "5\n",
      "5 10 15 \n"
     ]
    }
   ],
   "source": [
    "for i in range(1,6):\n",
    "    print(i)\n",
    "    for j in range(1,4):\n",
    "        print(i*j, end=' ')\n",
    "    print() "
   ]
  },
  {
   "cell_type": "code",
   "execution_count": 17,
   "metadata": {},
   "outputs": [
    {
     "name": "stdout",
     "output_type": "stream",
     "text": [
      " \n",
      "*    \n",
      "*   *    \n",
      "*   *   *    \n",
      "*   *   *   *    \n",
      "*   *   *   *   *    \n"
     ]
    }
   ],
   "source": [
    "for i in range(6):\n",
    "    for j in range(i):\n",
    "        print(\"*\", end='   ')\n",
    "    print(\" \")"
   ]
  },
  {
   "cell_type": "code",
   "execution_count": 4,
   "metadata": {},
   "outputs": [
    {
     "name": "stdout",
     "output_type": "stream",
     "text": [
      "(0, 'Radha')\n",
      "(1, 'kishoriji')\n",
      "(2, 'Krishna')\n",
      "(3, 'Gopal')\n",
      "(4, 'Bihari')\n",
      "(5, 'Makhanchor')\n",
      "(6, 'Kanha')\n",
      "(7, 'Nandlal')\n"
     ]
    }
   ],
   "source": [
    "#enumerate\n",
    "name = ['Radha','kishoriji','Krishna','Gopal','Bihari','Makhanchor','Kanha','Nandlal']\n",
    "for name in enumerate(name):\n",
    "    print(name)"
   ]
  },
  {
   "cell_type": "code",
   "execution_count": 6,
   "metadata": {},
   "outputs": [
    {
     "name": "stdout",
     "output_type": "stream",
     "text": [
      "1\n",
      "2\n",
      "3\n",
      "3\n",
      "5\n",
      "1\n",
      "2\n",
      "2\n",
      "2\n",
      "1\n"
     ]
    }
   ],
   "source": [
    "x = [1,2,3,3,5,1,2,2,2,1,2,3,1,1,1,2,3,3,4,5,1,1,2,2,3,3,3,1,1,]\n",
    "for i,v in enumerate(x):\n",
    "    if i == 10:\n",
    "        break\n",
    "    print(v)\n",
    "\n"
   ]
  },
  {
   "cell_type": "code",
   "execution_count": 7,
   "metadata": {},
   "outputs": [
    {
     "name": "stdout",
     "output_type": "stream",
     "text": [
      "(1, 7, 2)\n",
      "(2, 8, 3)\n",
      "(3, 3, 6)\n",
      "(4, 2, 6)\n"
     ]
    }
   ],
   "source": [
    "#zip\n",
    "x = [1,2,3,4,]\n",
    "y = [7,8,3,2,]\n",
    "z = [2,3,6,6,]\n",
    "for i in zip(x,y,z):\n",
    "    print(i)"
   ]
  },
  {
   "cell_type": "code",
   "execution_count": 8,
   "metadata": {},
   "outputs": [
    {
     "name": "stdout",
     "output_type": "stream",
     "text": [
      "1 7 2\n",
      "2 8 3\n",
      "3 3 6\n",
      "4 2 6\n"
     ]
    }
   ],
   "source": [
    "#correct way to write\n",
    "for i, j, k in zip(x,y,z):\n",
    "    print(i,j,k)"
   ]
  },
  {
   "cell_type": "code",
   "execution_count": 9,
   "metadata": {},
   "outputs": [
    {
     "name": "stdout",
     "output_type": "stream",
     "text": [
      "10\n",
      "13\n",
      "12\n",
      "12\n"
     ]
    }
   ],
   "source": [
    "#here we can add all the values\n",
    "for i, j, k in zip(x,y,z):\n",
    "    print(i+j+k)"
   ]
  },
  {
   "cell_type": "code",
   "execution_count": 10,
   "metadata": {},
   "outputs": [
    {
     "name": "stdout",
     "output_type": "stream",
     "text": [
      "(1, 7, 2)\n",
      "(2, 8, 3)\n",
      "(3, 3, 6)\n",
      "(4, 2, 6)\n"
     ]
    }
   ],
   "source": [
    "#extra value of z will not be considered\n",
    "x = [1,2,3,4,]\n",
    "y = [7,8,3,2,]\n",
    "z = [2,3,6,6,7,8]\n",
    "for i in zip(x,y,z):\n",
    "    print(i)"
   ]
  },
  {
   "cell_type": "markdown",
   "metadata": {},
   "source": [
    "#for - else\n",
    "\n",
    "if  all the iterations of the loop are completed without any break ststement, then the else part is executed else part is not executed if the loop is terminated by a break statement"
   ]
  },
  {
   "cell_type": "code",
   "execution_count": 11,
   "metadata": {},
   "outputs": [
    {
     "name": "stdout",
     "output_type": "stream",
     "text": [
      "1\n",
      "2\n",
      "3\n",
      "4\n",
      "completed without break\n"
     ]
    }
   ],
   "source": [
    "#for else\n",
    "for i in x:\n",
    "    if i == 13:\n",
    "        break\n",
    "    print(i)\n",
    "else:\n",
    "    print(\"completed without break\")\n"
   ]
  },
  {
   "cell_type": "code",
   "execution_count": 12,
   "metadata": {},
   "outputs": [
    {
     "name": "stdout",
     "output_type": "stream",
     "text": [
      "123 %2 = 123\n",
      "123 %3 = 123\n",
      "not prime\n"
     ]
    }
   ],
   "source": [
    "#checking prime number\n",
    "num = 123\n",
    "for i in range(2,num):\n",
    "    print(f'{num} %{i} = {num}')\n",
    "    if num%i == 0:\n",
    "        print(\"not prime\")\n",
    "        break\n",
    "else:\n",
    "    print(\"prime\")    "
   ]
  },
  {
   "cell_type": "code",
   "execution_count": null,
   "metadata": {},
   "outputs": [],
   "source": []
  }
 ],
 "metadata": {
  "kernelspec": {
   "display_name": "base",
   "language": "python",
   "name": "python3"
  },
  "language_info": {
   "codemirror_mode": {
    "name": "ipython",
    "version": 3
   },
   "file_extension": ".py",
   "mimetype": "text/x-python",
   "name": "python",
   "nbconvert_exporter": "python",
   "pygments_lexer": "ipython3",
   "version": "3.11.4"
  },
  "orig_nbformat": 4
 },
 "nbformat": 4,
 "nbformat_minor": 2
}
