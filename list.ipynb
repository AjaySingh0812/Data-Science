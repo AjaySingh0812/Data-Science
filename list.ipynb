{
 "cells": [
  {
   "cell_type": "markdown",
   "metadata": {},
   "source": [
    "#list\n",
    "- indexed, ordered, mutable, can have duplicates,'[]', 'list()'\n",
    "\n",
    "#tuple\n",
    "- indexed, ordered, *immmutable*, can have duplicates,'()', 'tuple()'\n",
    "\n",
    "#set\n",
    "- unindexed, unordered, mutable, *cannot have duplicates*, '{}', 'set()'\n",
    "\n",
    "#dictionary\n",
    "- unindexed, ordered ,mutable, *key:value pairs*, *immutable keys*, '{key':'value'}',\n",
    "'dict()'"
   ]
  },
  {
   "cell_type": "code",
   "execution_count": 1,
   "metadata": {},
   "outputs": [],
   "source": [
    "#creating list\n",
    "x = [] # empty list\n",
    "a = [1,2,3,4,5] #numeric list\n",
    "colors = ['red', 'yellow', 'green'] # string list\n",
    "mixed = ['red', 'yellow', 'true', 'false', 'none', [1,2.3]] # mixed list\n",
    "nested_list = [[1,2,3]],[[4,5,6]] # nested list"
   ]
  },
  {
   "cell_type": "code",
   "execution_count": 2,
   "metadata": {},
   "outputs": [
    {
     "name": "stdout",
     "output_type": "stream",
     "text": [
      "['A', 'j', 'a', 'y']\n"
     ]
    }
   ],
   "source": [
    "Name = 'Ajay'\n",
    "charlist = list(Name)\n",
    "print(charlist)"
   ]
  },
  {
   "cell_type": "code",
   "execution_count": 3,
   "metadata": {},
   "outputs": [
    {
     "data": {
      "text/plain": [
       "['red', 'yellow', 'green', 'red', 'yellow', 'green', 'red', 'yellow', 'green']"
      ]
     },
     "execution_count": 3,
     "metadata": {},
     "output_type": "execute_result"
    }
   ],
   "source": [
    "colors *3"
   ]
  },
  {
   "cell_type": "code",
   "execution_count": 4,
   "metadata": {},
   "outputs": [
    {
     "data": {
      "text/plain": [
       "[1, 2, 3, 4, 5, 'red', 'yellow', 'green']"
      ]
     },
     "execution_count": 4,
     "metadata": {},
     "output_type": "execute_result"
    }
   ],
   "source": [
    "a+ colors# list cncatenation"
   ]
  },
  {
   "cell_type": "code",
   "execution_count": 5,
   "metadata": {},
   "outputs": [
    {
     "data": {
      "text/plain": [
       "10"
      ]
     },
     "execution_count": 5,
     "metadata": {},
     "output_type": "execute_result"
    }
   ],
   "source": [
    "colors = ['red','green','blue','orange','violet',\n",
    "         'purple','pink','saffron','yellow','white']\n",
    "len(colors)"
   ]
  },
  {
   "cell_type": "code",
   "execution_count": 6,
   "metadata": {},
   "outputs": [
    {
     "name": "stdout",
     "output_type": "stream",
     "text": [
      "[]\n",
      "['saffron', 'yellow', 'white']\n",
      "['white', 'yellow', 'saffron', 'pink', 'purple', 'violet', 'orange', 'blue', 'green', 'red']\n"
     ]
    }
   ],
   "source": [
    "print(colors[:0])\n",
    "print(colors[-3:])\n",
    "print(colors[::-1])\n",
    "colors[0] = 'Red' #mutability\n"
   ]
  },
  {
   "cell_type": "code",
   "execution_count": 7,
   "metadata": {},
   "outputs": [
    {
     "name": "stdout",
     "output_type": "stream",
     "text": [
      "['Red', 'green', 'blue', 'orange', 'violet', 'purple', 'pink']\n",
      "['saffron', 'yellow', 'white']\n",
      "['white', 'saffron', 'purple', 'orange', 'green']\n"
     ]
    }
   ],
   "source": [
    "print(colors[:7])\n",
    "print(colors[-3:])\n",
    "print(colors[::-2])"
   ]
  },
  {
   "cell_type": "markdown",
   "metadata": {},
   "source": [
    "total  11 methods in a list\n",
    "- to add\n",
    "    1. append()\n",
    "    2. extend()\n",
    "    3. insert()\n",
    "\n",
    "- to remove \n",
    "    1. remove() \n",
    "    2. pop() \n",
    "    3. clear() \n",
    "\n",
    "- for utility\n",
    "    1. reverse() \n",
    "    2. sort()\n",
    "    2. copy()\n",
    "    4. count()\n",
    "    5. index()\n",
    "\n",
    "\n"
   ]
  },
  {
   "cell_type": "code",
   "execution_count": 8,
   "metadata": {},
   "outputs": [],
   "source": [
    "tvshows =[] #empty list\n",
    "tvshows.append(\"chhota  Bhim\")\n",
    "tvshows.append(\"CID\")\n",
    "tvshows.append(\"Motu Patlu\")\n",
    "tvshows.append(\"Khatron Ke Khiladi\")"
   ]
  },
  {
   "cell_type": "code",
   "execution_count": 9,
   "metadata": {},
   "outputs": [
    {
     "name": "stdout",
     "output_type": "stream",
     "text": [
      "['chhota  Bhim', 'CID', 'Motu Patlu', 'Khatron Ke Khiladi']\n"
     ]
    }
   ],
   "source": [
    "print(tvshows)"
   ]
  },
  {
   "cell_type": "code",
   "execution_count": 10,
   "metadata": {},
   "outputs": [
    {
     "name": "stdout",
     "output_type": "stream",
     "text": [
      "['chhota  Bhim', 'The office', 'CID', 'Motu Patlu', 'Friends', 'Khatron Ke Khiladi']\n"
     ]
    }
   ],
   "source": [
    "tvshows.insert(1, \"The office\")\n",
    "tvshows.insert(4, \"Friends\")\n",
    "print(tvshows)"
   ]
  },
  {
   "cell_type": "code",
   "execution_count": 11,
   "metadata": {},
   "outputs": [
    {
     "name": "stdout",
     "output_type": "stream",
     "text": [
      "['KKK']\n"
     ]
    }
   ],
   "source": [
    "user_shows = input('enter your favourite shows separated by commas:')\n",
    "user_shows = user_shows.split(',')\n",
    "print(user_shows)"
   ]
  },
  {
   "cell_type": "code",
   "execution_count": 12,
   "metadata": {},
   "outputs": [
    {
     "name": "stdout",
     "output_type": "stream",
     "text": [
      "['chhota  Bhim', 'The office', 'CID', 'Motu Patlu', 'Friends', 'Khatron Ke Khiladi', 'chhota  Bhim', 'The office', 'CID', 'Motu Patlu', 'Friends', 'Khatron Ke Khiladi']\n"
     ]
    }
   ],
   "source": [
    "tvshows.extend(tvshows)\n",
    "print(tvshows)"
   ]
  },
  {
   "cell_type": "code",
   "execution_count": 13,
   "metadata": {},
   "outputs": [
    {
     "name": "stdout",
     "output_type": "stream",
     "text": [
      "['chhota  Bhim', 'The office', 'Motu Patlu', 'Friends', 'Khatron Ke Khiladi', 'chhota  Bhim', 'The office', 'CID', 'Motu Patlu', 'Friends', 'Khatron Ke Khiladi']\n"
     ]
    }
   ],
   "source": [
    "# to remove\n",
    "# if we know the index  we will use pop() \n",
    "#  if we know the value we will use remove()\n",
    "if 'CID' in tvshows:\n",
    "    tvshows.remove('CID') \n",
    "print(tvshows)    "
   ]
  },
  {
   "cell_type": "code",
   "execution_count": 14,
   "metadata": {},
   "outputs": [
    {
     "name": "stdout",
     "output_type": "stream",
     "text": [
      "Motu Patlu\n"
     ]
    }
   ],
   "source": [
    "popped_value = tvshows.pop(2)\n",
    "print(popped_value)"
   ]
  },
  {
   "cell_type": "code",
   "execution_count": 15,
   "metadata": {},
   "outputs": [],
   "source": [
    "tvshows.clear()"
   ]
  },
  {
   "cell_type": "code",
   "execution_count": 16,
   "metadata": {},
   "outputs": [],
   "source": [
    "del colors"
   ]
  },
  {
   "cell_type": "code",
   "execution_count": 17,
   "metadata": {},
   "outputs": [
    {
     "name": "stdout",
     "output_type": "stream",
     "text": [
      "[1, 3, 4, 8, 9, 10, 14, 17, 20, 22, 23, 23, 25, 30, 44, 55, 66]\n"
     ]
    }
   ],
   "source": [
    "x = [1,44,22,55,3,4,8,9,66,25,14,23,20,10,30,23,17]\n",
    "x.sort()\n",
    "print(x)"
   ]
  },
  {
   "cell_type": "code",
   "execution_count": 18,
   "metadata": {},
   "outputs": [
    {
     "name": "stdout",
     "output_type": "stream",
     "text": [
      "[1, 3, 4, 8, 9, 10, 14, 17, 20, 22, 23, 23, 25, 30, 44, 55, 66]\n"
     ]
    }
   ],
   "source": [
    "x.sort() # ascending order\n",
    "print(x)"
   ]
  },
  {
   "cell_type": "code",
   "execution_count": 19,
   "metadata": {},
   "outputs": [
    {
     "name": "stdout",
     "output_type": "stream",
     "text": [
      "[66, 55, 44, 30, 25, 23, 23, 22, 20, 17, 14, 10, 9, 8, 4, 3, 1]\n"
     ]
    }
   ],
   "source": [
    "x.sort(reverse=True) # reverse=true : descending order\n",
    "print(x)"
   ]
  },
  {
   "cell_type": "code",
   "execution_count": 20,
   "metadata": {},
   "outputs": [
    {
     "name": "stdout",
     "output_type": "stream",
     "text": [
      "[66, 55, 44, 30, 25, 23, 23, 22, 20, 17, 14, 10, 9, 8, 4, 3, 1]\n"
     ]
    }
   ],
   "source": [
    "x.sort(reverse=True) # reverse=true : descending order\n",
    "print(x)"
   ]
  },
  {
   "cell_type": "code",
   "execution_count": 21,
   "metadata": {},
   "outputs": [
    {
     "data": {
      "text/plain": [
       "2"
      ]
     },
     "execution_count": 21,
     "metadata": {},
     "output_type": "execute_result"
    }
   ],
   "source": [
    "x.count(23) # how many times 23 appears in the list"
   ]
  },
  {
   "cell_type": "code",
   "execution_count": 22,
   "metadata": {},
   "outputs": [
    {
     "data": {
      "text/plain": [
       "14"
      ]
     },
     "execution_count": 22,
     "metadata": {},
     "output_type": "execute_result"
    }
   ],
   "source": [
    "x.index(4) # on which index is 4 value\n"
   ]
  },
  {
   "cell_type": "code",
   "execution_count": 26,
   "metadata": {},
   "outputs": [
    {
     "data": {
      "text/plain": [
       "4"
      ]
     },
     "execution_count": 26,
     "metadata": {},
     "output_type": "execute_result"
    }
   ],
   "source": [
    "x.index(6) # on which index is 4 value"
   ]
  },
  {
   "cell_type": "code",
   "execution_count": 28,
   "metadata": {},
   "outputs": [
    {
     "data": {
      "text/plain": [
       "5"
      ]
     },
     "execution_count": 28,
     "metadata": {},
     "output_type": "execute_result"
    }
   ],
   "source": [
    "x.index(8) # on which index is 4 value"
   ]
  },
  {
   "cell_type": "code",
   "execution_count": 23,
   "metadata": {},
   "outputs": [
    {
     "name": "stdout",
     "output_type": "stream",
     "text": [
      "[1, 2, 4, 5, 6, 8, 4, 6, 7, 4, 5, 8, 4, 2, 8, 7]\n"
     ]
    }
   ],
   "source": [
    "x = [1,2,4,5,6,8,4,6,7,4,5,8,4,2,8,7]\n",
    "print(x)"
   ]
  },
  {
   "cell_type": "code",
   "execution_count": 24,
   "metadata": {},
   "outputs": [
    {
     "name": "stdout",
     "output_type": "stream",
     "text": [
      "[1, 2, 4, 5, 6, 8, 4, 6, 7, 4, 5, 8, 4, 2, 8, 7, 3, 2, 5, 7]\n"
     ]
    }
   ],
   "source": [
    "x = [1,2,4,5,6,8,4,6,7,4,5,8,4,2,8,7,3,2,5,7]\n",
    "print(x)"
   ]
  },
  {
   "cell_type": "code",
   "execution_count": 25,
   "metadata": {},
   "outputs": [
    {
     "name": "stdout",
     "output_type": "stream",
     "text": [
      "0\n"
     ]
    }
   ],
   "source": [
    "start = 0\n",
    "for i in range (x.count(1)):\n",
    "    pos=x.index(1,start)\n",
    "    start=pos+1\n",
    "    print(pos)"
   ]
  },
  {
   "cell_type": "code",
   "execution_count": null,
   "metadata": {},
   "outputs": [],
   "source": []
  }
 ],
 "metadata": {
  "kernelspec": {
   "display_name": "base",
   "language": "python",
   "name": "python3"
  },
  "language_info": {
   "codemirror_mode": {
    "name": "ipython",
    "version": 3
   },
   "file_extension": ".py",
   "mimetype": "text/x-python",
   "name": "python",
   "nbconvert_exporter": "python",
   "pygments_lexer": "ipython3",
   "version": "3.11.4"
  },
  "orig_nbformat": 4
 },
 "nbformat": 4,
 "nbformat_minor": 2
}
