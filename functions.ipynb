{
 "cells": [
  {
   "cell_type": "markdown",
   "metadata": {},
   "source": [
    "syntax \n",
    "'''\n",
    "def fun_name([parameter])\n",
    "    statement 1\n",
    "    statement 2\n",
    "    '''\n",
    "    statement n\n",
    "    [return expression]\n",
    "\n",
    "example\n",
    "\n",
    "def area(width, height):\n",
    "    a = width * height\n",
    "    return a "
   ]
  },
  {
   "cell_type": "markdown",
   "metadata": {},
   "source": [
    "- based on parameter and return value \n",
    "    1. no parameter, no return value\n",
    "    2. no parameter,  return value\n",
    "    3.  parameter,  no return value\n",
    "    4.  parameter,  return value\n",
    "\n",
    "\n",
    "- based on parameter type\n",
    "    1. required parameter\n",
    "    2. keyword  parameter\n",
    "    3. default  parameter\n",
    "    4. variable length parameter (*args)\n",
    "    5. varible keyword arguments (**kwargs)\n",
    "\n",
    "- other types of function\n",
    "    1. lambda function\n",
    "    2. generator function\n",
    "    3. recursive function\n",
    "    "
   ]
  },
  {
   "cell_type": "code",
   "execution_count": 1,
   "metadata": {},
   "outputs": [],
   "source": [
    "#value returning function \n",
    "def area ():\n",
    "    l = int(input(\"enter l = \"))\n",
    "    b  = int(input(\"enter l = \"))\n",
    "    return l*b \n",
    "\n",
    "    \n",
    "\n",
    "    "
   ]
  },
  {
   "cell_type": "code",
   "execution_count": 2,
   "metadata": {},
   "outputs": [
    {
     "name": "stdout",
     "output_type": "stream",
     "text": [
      "area is 24\n"
     ]
    }
   ],
   "source": [
    "ans  = area()\n",
    "print(f'area is {ans}')"
   ]
  },
  {
   "cell_type": "code",
   "execution_count": 1,
   "metadata": {},
   "outputs": [],
   "source": [
    "def math():\n",
    "    P = int(input(\"enter the Principle: \"))\n",
    "    r = int(input(\"enter the rate : \"))\n",
    "    t = int(input(\"enter the time : \"))\n",
    "    si = P*r*t /100\n",
    "    amt  = P + si\n",
    "    return si,amt"
   ]
  },
  {
   "cell_type": "code",
   "execution_count": 2,
   "metadata": {},
   "outputs": [
    {
     "name": "stdout",
     "output_type": "stream",
     "text": [
      "si 18.0\n",
      "amt 28.0\n"
     ]
    }
   ],
   "source": [
    "result = math()\n",
    "print('si', result[0])\n",
    "print('amt',result[1])"
   ]
  },
  {
   "cell_type": "code",
   "execution_count": 3,
   "metadata": {},
   "outputs": [
    {
     "name": "stdout",
     "output_type": "stream",
     "text": [
      "100.0 200.0\n"
     ]
    }
   ],
   "source": [
    "si, amount = math()\n",
    "print(si,amount)"
   ]
  },
  {
   "cell_type": "code",
   "execution_count": 11,
   "metadata": {},
   "outputs": [],
   "source": [
    "def is_armstrong(number ):\n",
    "    t = number\n",
    "    s = 0 #sum\n",
    "    pow = len (str(number))\n",
    "    while number > 0 :\n",
    "        r = number % 10\n",
    "        s += r ** pow\n",
    "        number //= 10\n",
    "    return t == s"
   ]
  },
  {
   "cell_type": "code",
   "execution_count": 6,
   "metadata": {},
   "outputs": [
    {
     "name": "stdout",
     "output_type": "stream",
     "text": [
      "False\n"
     ]
    }
   ],
   "source": [
    "x = int(input('enter  a number '))\n",
    "print(is_armstrong(x))"
   ]
  },
  {
   "cell_type": "code",
   "execution_count": 12,
   "metadata": {},
   "outputs": [
    {
     "name": "stdout",
     "output_type": "stream",
     "text": [
      "153\n",
      "370\n",
      "371\n",
      "407\n",
      "1634\n",
      "8208\n",
      "9474\n",
      "54748\n",
      "92727\n",
      "93084\n",
      "548834\n"
     ]
    }
   ],
   "source": [
    "for i in range (100,999999):\n",
    "    if is_armstrong(i):\n",
    "        print(i)"
   ]
  },
  {
   "cell_type": "code",
   "execution_count": 13,
   "metadata": {},
   "outputs": [],
   "source": [
    "def adder (a,b,c):\n",
    "    return a + b + c"
   ]
  },
  {
   "cell_type": "code",
   "execution_count": 14,
   "metadata": {},
   "outputs": [
    {
     "ename": "TypeError",
     "evalue": "adder() missing 1 required positional argument: 'c'",
     "output_type": "error",
     "traceback": [
      "\u001b[1;31m---------------------------------------------------------------------------\u001b[0m",
      "\u001b[1;31mTypeError\u001b[0m                                 Traceback (most recent call last)",
      "Cell \u001b[1;32mIn[14], line 1\u001b[0m\n\u001b[1;32m----> 1\u001b[0m \u001b[39mprint\u001b[39m(adder(\u001b[39m12\u001b[39m,\u001b[39m5\u001b[39m))\n",
      "\u001b[1;31mTypeError\u001b[0m: adder() missing 1 required positional argument: 'c'"
     ]
    }
   ],
   "source": [
    "print(adder(12,5)) # value of c is missing so, required parameter is not fulfil & it will retuen error"
   ]
  },
  {
   "cell_type": "code",
   "execution_count": 15,
   "metadata": {},
   "outputs": [
    {
     "name": "stdout",
     "output_type": "stream",
     "text": [
      "23\n"
     ]
    }
   ],
   "source": [
    "print(adder(12,5,6)) # if we miss any required parameter it will retuen error"
   ]
  },
  {
   "cell_type": "code",
   "execution_count": 17,
   "metadata": {},
   "outputs": [
    {
     "name": "stdout",
     "output_type": "stream",
     "text": [
      "12\n",
      "40\n",
      "50\n",
      "60\n"
     ]
    }
   ],
   "source": [
    "print(adder(a=4,b=3,c=5 ))# key arguments\n",
    "print(adder(b=10,c=20,a=10 ))# allows for any order\n",
    "print(adder(10,c= 20,b= 20))\n",
    "print(adder(10,20,c=30 ))"
   ]
  },
  {
   "cell_type": "code",
   "execution_count": 19,
   "metadata": {},
   "outputs": [],
   "source": [
    "def multiplier (a,b,c=1):\n",
    "    return a*b*c"
   ]
  },
  {
   "cell_type": "code",
   "execution_count": 20,
   "metadata": {},
   "outputs": [
    {
     "name": "stdout",
     "output_type": "stream",
     "text": [
      "6\n",
      "60\n",
      "24\n",
      "24\n",
      "6\n"
     ]
    }
   ],
   "source": [
    "print(multiplier(2,3))\n",
    "print(multiplier(2,3,10 ))\n",
    "print(multiplier(2,3, c = 4))\n",
    "print(multiplier(a=2,b=3, c = 4))\n",
    "print(multiplier(2,b=3, ))"
   ]
  },
  {
   "cell_type": "code",
   "execution_count": 27,
   "metadata": {},
   "outputs": [],
   "source": [
    " \n",
    "from string import punctuation\n",
    "def cleaner(data, chars=None):\n",
    "    if chars is None:\n",
    "        chars = punctuation\n",
    "        for c in chars:\n",
    "            data = data.replace(c, '')\n",
    "        return data     "
   ]
  },
  {
   "cell_type": "code",
   "execution_count": 28,
   "metadata": {},
   "outputs": [
    {
     "name": "stdout",
     "output_type": "stream",
     "text": [
      "!\"#$%&'()*+,-./:;<=>?@[\\]^_`{|}~\n"
     ]
    }
   ],
   "source": [
    "print(punctuation)"
   ]
  },
  {
   "cell_type": "code",
   "execution_count": null,
   "metadata": {},
   "outputs": [],
   "source": [
    "cleaner ('h@!#*(!@*#)',)"
   ]
  },
  {
   "cell_type": "code",
   "execution_count": 29,
   "metadata": {},
   "outputs": [],
   "source": [
    "def multiplier(*nums):\n",
    "    result = 1\n",
    "    for num in nums:\n",
    "        return result"
   ]
  },
  {
   "cell_type": "code",
   "execution_count": 31,
   "metadata": {},
   "outputs": [
    {
     "name": "stdout",
     "output_type": "stream",
     "text": [
      "None\n",
      "1\n",
      "1\n",
      "1\n",
      "None\n",
      "None\n",
      "None\n"
     ]
    }
   ],
   "source": [
    "print(multiplier())\n",
    "print(multiplier(2))\n",
    "print(multiplier(2,3,4,5,6,7,8))\n",
    "print(multiplier(2,3,5,7,5,2,8,5,1,5,5,1,4,5))\n",
    "print(multiplier())\n",
    "print(multiplier())\n",
    "print(multiplier())"
   ]
  },
  {
   "cell_type": "code",
   "execution_count": 32,
   "metadata": {},
   "outputs": [],
   "source": [
    "def aggregrator (*x, action = 'sum'):\n",
    "    if action == 'sum':\n",
    "        return sum (x)\n",
    "    elif action == 'count':\n",
    "        return len(x)\n",
    "    elif action == 'mean':\n",
    "        return sum (x) / len (x)\n",
    "    else :\n",
    "        raise ValueError ('Invalid action ')"
   ]
  },
  {
   "cell_type": "code",
   "execution_count": 33,
   "metadata": {},
   "outputs": [
    {
     "data": {
      "text/plain": [
       "2.0"
      ]
     },
     "execution_count": 33,
     "metadata": {},
     "output_type": "execute_result"
    }
   ],
   "source": [
    "aggregrator (1,2,3,3,1,1,2,2,3, action= 'mean')"
   ]
  },
  {
   "cell_type": "code",
   "execution_count": 1,
   "metadata": {},
   "outputs": [],
   "source": [
    "def sorter (*data , type='number'):  #data is with single * so it is tuple \n",
    "    if type =='number':\n",
    "        clean_data = []\n",
    "        for i in data:\n",
    "            if isinstance(i,int) or isinstance(i,float):\n",
    "                clean_data.append(i)\n",
    "        clean_data.sort()\n",
    "        return clean_data\n",
    "    else:\n",
    "        return None        "
   ]
  },
  {
   "cell_type": "code",
   "execution_count": 2,
   "metadata": {},
   "outputs": [
    {
     "data": {
      "text/plain": [
       "[6, 7, 11, 12]"
      ]
     },
     "execution_count": 2,
     "metadata": {},
     "output_type": "execute_result"
    }
   ],
   "source": [
    "sorter (11,6,7,12)"
   ]
  },
  {
   "cell_type": "code",
   "execution_count": 3,
   "metadata": {},
   "outputs": [
    {
     "data": {
      "text/plain": [
       "[2, 5, 6, 7, 12, 45]"
      ]
     },
     "execution_count": 3,
     "metadata": {},
     "output_type": "execute_result"
    }
   ],
   "source": [
    "sorter(12,45,'a','b',2,5,6,7)"
   ]
  },
  {
   "cell_type": "code",
   "execution_count": 4,
   "metadata": {},
   "outputs": [],
   "source": [
    "def  display_data(**data): #data is with double ** so it is dictionary\n",
    "    print(\"Your data :\")\n",
    "    total = 0\n",
    "    for k, v in data.items():\n",
    "        print(f\"{k:10}{v}\")\n",
    "        total += v\n",
    "    print('_'*20)\n",
    "    print(f\"Total: Rs.{total}\")\n",
    "    print('-'*20)    "
   ]
  },
  {
   "cell_type": "code",
   "execution_count": 5,
   "metadata": {},
   "outputs": [
    {
     "name": "stdout",
     "output_type": "stream",
     "text": [
      "Your data :\n",
      "dahi      50\n",
      "medicine  1200\n",
      "tshirt    250\n",
      "fruits    200\n",
      "____________________\n",
      "Total: Rs.1700\n",
      "--------------------\n"
     ]
    }
   ],
   "source": [
    "display_data(dahi= 50, medicine = 1200, tshirt =250, fruits=200)"
   ]
  },
  {
   "cell_type": "markdown",
   "metadata": {},
   "source": [
    "- Lambda expression "
   ]
  },
  {
   "cell_type": "code",
   "execution_count": 9,
   "metadata": {},
   "outputs": [
    {
     "name": "stdout",
     "output_type": "stream",
     "text": [
      "210\n",
      "60\n",
      "26\n"
     ]
    }
   ],
   "source": [
    "#here lambda represents anonymous function\n",
    "f = lambda x: x**2 + x*10 +x\n",
    "print(f(10))\n",
    "print(f(4))\n",
    "print(f(2))"
   ]
  },
  {
   "cell_type": "code",
   "execution_count": 10,
   "metadata": {},
   "outputs": [
    {
     "name": "stdout",
     "output_type": "stream",
     "text": [
      "18\n",
      "708\n",
      "156\n"
     ]
    }
   ],
   "source": [
    "g = lambda x,y : x**3 + y**4 + x*y - 1\n",
    "print(g(1,2))\n",
    "print(g(4,5))\n",
    "print(g(4,3))"
   ]
  },
  {
   "cell_type": "code",
   "execution_count": 11,
   "metadata": {},
   "outputs": [],
   "source": [
    "hyp = lambda p,b : (p**2 + b**2)**.5"
   ]
  },
  {
   "cell_type": "code",
   "execution_count": 13,
   "metadata": {},
   "outputs": [
    {
     "data": {
      "text/plain": [
       "19.1049731745428"
      ]
     },
     "execution_count": 13,
     "metadata": {},
     "output_type": "execute_result"
    }
   ],
   "source": [
    "hyp(13,14)"
   ]
  },
  {
   "cell_type": "markdown",
   "metadata": {},
   "source": [
    " Mapping : list of data -> operation -> new list of data \n",
    " \n",
    " Filter : ;ist of data -> conditions -> new list of data "
   ]
  },
  {
   "cell_type": "code",
   "execution_count": 15,
   "metadata": {},
   "outputs": [
    {
     "name": "stdout",
     "output_type": "stream",
     "text": [
      "[8, 27, 9261, 29791, 27, 1728, 29791, 12167]\n"
     ]
    }
   ],
   "source": [
    "x = [2,3,21,31,3,12,31,23]\n",
    "x3 = list(map(lambda i: i**3,x))\n",
    "print(x3)"
   ]
  },
  {
   "cell_type": "code",
   "execution_count": 16,
   "metadata": {},
   "outputs": [
    {
     "name": "stdout",
     "output_type": "stream",
     "text": [
      "(8, 27, 9261, 29791, 27, 1728, 29791, 12167)\n"
     ]
    }
   ],
   "source": [
    "x = [2,3,21,31,3,12,31,23]\n",
    "x3 = tuple(map(lambda i: i**3,x))\n",
    "print(x3)"
   ]
  },
  {
   "cell_type": "code",
   "execution_count": 17,
   "metadata": {},
   "outputs": [
    {
     "name": "stdout",
     "output_type": "stream",
     "text": [
      "{1728, 12167, 8, 9261, 27, 29791}\n"
     ]
    }
   ],
   "source": [
    "x = [2,3,21,31,3,12,31,23]\n",
    "x3 = set(map(lambda i: i**3,x))\n",
    "print(x3)"
   ]
  },
  {
   "cell_type": "code",
   "execution_count": 20,
   "metadata": {},
   "outputs": [
    {
     "name": "stdout",
     "output_type": "stream",
     "text": [
      "[2, 6, 12, 20, 30, 30]\n"
     ]
    }
   ],
   "source": [
    "x = [1,2,3,4,5,6]\n",
    "y = [2,3,4,5,6,5]\n",
    "xy = list(map(lambda i,j: i*j, x,y))\n",
    "print(xy)"
   ]
  },
  {
   "cell_type": "code",
   "execution_count": 21,
   "metadata": {},
   "outputs": [
    {
     "name": "stdout",
     "output_type": "stream",
     "text": [
      "[1, 3, 5, 3, 5]\n"
     ]
    }
   ],
   "source": [
    "a = [1,2,3,4,5,6,8,2,4,4,3,5,6,4]\n",
    "b = list(filter(lambda i: i%2==1, a))\n",
    "print (b)"
   ]
  },
  {
   "cell_type": "code",
   "execution_count": 22,
   "metadata": {},
   "outputs": [],
   "source": [
    "from random import randint "
   ]
  },
  {
   "cell_type": "code",
   "execution_count": 23,
   "metadata": {},
   "outputs": [],
   "source": [
    "def random_range(s,e,size =10):\n",
    "    for i in range (size):\n",
    "        yield randint (s,e)"
   ]
  },
  {
   "cell_type": "code",
   "execution_count": 24,
   "metadata": {},
   "outputs": [
    {
     "data": {
      "text/plain": [
       "<generator object random_range at 0x000001D9F628FA60>"
      ]
     },
     "execution_count": 24,
     "metadata": {},
     "output_type": "execute_result"
    }
   ],
   "source": [
    "random_range(1,10,3)"
   ]
  },
  {
   "cell_type": "code",
   "execution_count": 31,
   "metadata": {},
   "outputs": [
    {
     "name": "stdout",
     "output_type": "stream",
     "text": [
      "26  24  58  7  82  26  97  29  10  19  39  2  97  76  47  "
     ]
    }
   ],
   "source": [
    "for i in random_range (1,100,15):\n",
    "    print(i,end ='  ')"
   ]
  },
  {
   "cell_type": "code",
   "execution_count": null,
   "metadata": {},
   "outputs": [],
   "source": []
  }
 ],
 "metadata": {
  "kernelspec": {
   "display_name": "base",
   "language": "python",
   "name": "python3"
  },
  "language_info": {
   "codemirror_mode": {
    "name": "ipython",
    "version": 3
   },
   "file_extension": ".py",
   "mimetype": "text/x-python",
   "name": "python",
   "nbconvert_exporter": "python",
   "pygments_lexer": "ipython3",
   "version": "3.11.4"
  },
  "orig_nbformat": 4
 },
 "nbformat": 4,
 "nbformat_minor": 2
}
