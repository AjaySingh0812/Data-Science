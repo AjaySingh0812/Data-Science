{
 "cells": [
  {
   "cell_type": "markdown",
   "metadata": {},
   "source": [
    "syntax \n",
    "'''\n",
    "def fun_name([parameter])\n",
    "    statement 1\n",
    "    statement 2\n",
    "    '''\n",
    "    statement n\n",
    "    [return expression]\n",
    "\n",
    "example\n",
    "\n",
    "def area(width, height):\n",
    "    a = width * height\n",
    "    return a "
   ]
  },
  {
   "cell_type": "markdown",
   "metadata": {},
   "source": [
    "- based on parameter and return value \n",
    "    1. no parameter, no return value\n",
    "    2. no parameter,  return value\n",
    "    3.  parameter,  no return value\n",
    "    4.  parameter,  return value\n",
    "\n",
    "\n",
    "- based on parameter type\n",
    "    1. required parameter\n",
    "    2. keyword  parameter\n",
    "    3. default  parameter\n",
    "    4. variable length parameter (*args)\n",
    "    5. varible keyword arguments (**kwargs)\n",
    "\n",
    "- other types of function\n",
    "    1. lambda function\n",
    "    2. generator function\n",
    "    3. recursive function\n",
    "    "
   ]
  },
  {
   "cell_type": "markdown",
   "metadata": {},
   "source": []
  }
 ],
 "metadata": {
  "language_info": {
   "name": "python"
  },
  "orig_nbformat": 4
 },
 "nbformat": 4,
 "nbformat_minor": 2
}
