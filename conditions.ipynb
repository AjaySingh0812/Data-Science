{
 "cells": [
  {
   "cell_type": "code",
   "execution_count": 1,
   "metadata": {},
   "outputs": [],
   "source": [
    "x = input('enter name:')"
   ]
  },
  {
   "cell_type": "code",
   "execution_count": 2,
   "metadata": {},
   "outputs": [
    {
     "data": {
      "text/plain": [
       "'Ajay'"
      ]
     },
     "execution_count": 2,
     "metadata": {},
     "output_type": "execute_result"
    }
   ],
   "source": [
    "x"
   ]
  },
  {
   "cell_type": "code",
   "execution_count": 3,
   "metadata": {},
   "outputs": [
    {
     "name": "stdout",
     "output_type": "stream",
     "text": [
      "welcome mister 4 letters\n"
     ]
    }
   ],
   "source": [
    "if len(x) == 4:\n",
    "    print(\"welcome mister 4 letters\")\n",
    "\n",
    "if len(x) == 0:\n",
    "    print ('welcome mr. nobody' )   "
   ]
  },
  {
   "cell_type": "code",
   "execution_count": 4,
   "metadata": {},
   "outputs": [
    {
     "name": "stdout",
     "output_type": "stream",
     "text": [
      "even number\n"
     ]
    }
   ],
   "source": [
    "num = int(input('enter number:'))\n",
    "if num % 2 == 0:\n",
    "    print(\"even number\")\n",
    "else:\n",
    "    print(\"odd number\")        "
   ]
  },
  {
   "cell_type": "code",
   "execution_count": 5,
   "metadata": {},
   "outputs": [
    {
     "name": "stdout",
     "output_type": "stream",
     "text": [
      " c is greater\n"
     ]
    }
   ],
   "source": [
    "a, b, c = 10, 20, 30\n",
    "if a > b and a > c:\n",
    "    print(\"a is greater\")\n",
    "elif b > a and b > c:\n",
    "    print(\"b is greater\")\n",
    "else:\n",
    "    print(\" c is greater\")        "
   ]
  },
  {
   "cell_type": "code",
   "execution_count": 6,
   "metadata": {},
   "outputs": [
    {
     "name": "stdout",
     "output_type": "stream",
     "text": [
      "you choose friday\n"
     ]
    }
   ],
   "source": [
    "day = input('enter day')\n",
    "match (day):\n",
    "    case 'monday': print(\"you choose monday\")\n",
    "    case 'tuesday': print(\"you choose  tuesday\")\n",
    "    case 'wednesday''thursday': print(\"you choose a day\")\n",
    "    case 'friday': print(\"you choose friday\")\n",
    "    case 'saturday''sunday': print(\"you choose weekend \")\n",
    "    case _: print(\"you choose a wrong day\")"
   ]
  },
  {
   "cell_type": "code",
   "execution_count": 10,
   "metadata": {},
   "outputs": [
    {
     "name": "stdout",
     "output_type": "stream",
     "text": [
      "20000 -> 20000\n"
     ]
    }
   ],
   "source": [
    "amount = int(input('enter basic amount :'))\n",
    "if amount < 10000:\n",
    "    total = amount + amount * 0.5\n",
    "elif amount < 50000:\n",
    "    total  = amount + amount * 0.25\n",
    "elif amount < 100000:\n",
    "    total  = amount + amount * 0.1\n",
    "print (f'{amount} -> {amount}')\n"
   ]
  },
  {
   "cell_type": "code",
   "execution_count": 11,
   "metadata": {},
   "outputs": [
    {
     "name": "stdout",
     "output_type": "stream",
     "text": [
      "simple interest is 720.0\n"
     ]
    }
   ],
   "source": [
    "p =int (input(\"enter principal amount \"))\n",
    "r =int (input(\"enter rate  \")) \n",
    "t =int (input(\"enter time \"))\n",
    "si = p*r*t / 10\n",
    "print (f'simple interest is {si}')\n"
   ]
  },
  {
   "cell_type": "code",
   "execution_count": null,
   "metadata": {},
   "outputs": [],
   "source": []
  }
 ],
 "metadata": {
  "kernelspec": {
   "display_name": "base",
   "language": "python",
   "name": "python3"
  },
  "language_info": {
   "codemirror_mode": {
    "name": "ipython",
    "version": 3
   },
   "file_extension": ".py",
   "mimetype": "text/x-python",
   "name": "python",
   "nbconvert_exporter": "python",
   "pygments_lexer": "ipython3",
   "version": "3.11.4"
  },
  "orig_nbformat": 4
 },
 "nbformat": 4,
 "nbformat_minor": 2
}
