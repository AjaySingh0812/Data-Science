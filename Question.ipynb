{
 "cells": [
  {
   "cell_type": "markdown",
   "metadata": {},
   "source": [
    "wap to find all the indexes of a search element in the given list"
   ]
  },
  {
   "cell_type": "code",
   "execution_count": 4,
   "metadata": {},
   "outputs": [],
   "source": [
    "a=[1,1,2,3,4,5,6,1,2,2,2,3,3,5]"
   ]
  },
  {
   "cell_type": "code",
   "execution_count": 5,
   "metadata": {},
   "outputs": [
    {
     "name": "stdout",
     "output_type": "stream",
     "text": [
      "[3, 11, 12]\n"
     ]
    }
   ],
   "source": [
    "search = 3\n",
    "cnt = a.count(search)\n",
    "start = 0\n",
    "results = []\n",
    "for i in range(cnt):\n",
    "    idx = a.index(search, start)\n",
    "    start = idx + 1\n",
    "    results.append(idx)\n",
    "print(results)"
   ]
  },
  {
   "cell_type": "code",
   "execution_count": 6,
   "metadata": {},
   "outputs": [
    {
     "name": "stdout",
     "output_type": "stream",
     "text": [
      "[0, 1, 1, 2, 3, 5, 8, 13, 21, 34, 55, 89, 144, 233, 377, 610, 987]\n"
     ]
    }
   ],
   "source": [
    "#fibonacci series\n",
    "\n",
    "fib = [0,1]\n",
    "for i in range(15):\n",
    "    fib.append(fib[-1] + fib[-2])\n",
    "print(fib)    "
   ]
  },
  {
   "cell_type": "code",
   "execution_count": 14,
   "metadata": {},
   "outputs": [
    {
     "name": "stdout",
     "output_type": "stream",
     "text": [
      "120\n"
     ]
    }
   ],
   "source": [
    "#factorial\n",
    "\n",
    "num = 5\n",
    "f = 1\n",
    "for i in range(1,num+1):\n",
    "    f = f * i\n",
    "    \n",
    "print(f)    "
   ]
  },
  {
   "cell_type": "code",
   "execution_count": 9,
   "metadata": {},
   "outputs": [
    {
     "name": "stdout",
     "output_type": "stream",
     "text": [
      "['red', 'yellow', 'blue', 'brown', 'grey', 'orange', 'white', 'black']\n"
     ]
    }
   ],
   "source": [
    "#filter\n",
    "colors = ['red','yellow','blue','brown','grey','orange','white','black']\n",
    "Colors = []\n",
    "for c in colors:\n",
    "    if c.endswith('e'):\n",
    "        Colors.append(c)\n",
    "print(colors) "
   ]
  },
  {
   "cell_type": "code",
   "execution_count": null,
   "metadata": {},
   "outputs": [],
   "source": []
  },
  {
   "cell_type": "code",
   "execution_count": 21,
   "metadata": {},
   "outputs": [
    {
     "name": "stdout",
     "output_type": "stream",
     "text": [
      "[3, 4, 5, 6, 7, 8, 9, 10, 11, 12]\n"
     ]
    }
   ],
   "source": [
    "# mapping\n",
    "a = [1,2,3,4,5,6,7,8,9,10]\n",
    "a2 = []\n",
    "for num in a :\n",
    "    a2.append(num + 2)\n",
    "print(a2)    "
   ]
  },
  {
   "cell_type": "code",
   "execution_count": 26,
   "metadata": {},
   "outputs": [
    {
     "name": "stdout",
     "output_type": "stream",
     "text": [
      "[0, 4, 16, 36, 64]\n"
     ]
    }
   ],
   "source": [
    "even_sqrt = []\n",
    "for i in range (len(a)):\n",
    "    if i%2==0:\n",
    "        even_sqrt.append(i**2)\n",
    "print(even_sqrt)    "
   ]
  },
  {
   "cell_type": "code",
   "execution_count": 7,
   "metadata": {},
   "outputs": [
    {
     "name": "stdout",
     "output_type": "stream",
     "text": [
      "AS AS ZK "
     ]
    }
   ],
   "source": [
    "full_name = ['Ajay Singh','Aakash Kumar Singh','Zaid Kamil']\n",
    "short_name = []\n",
    "for nm in full_name :\n",
    "    words = nm.split()\n",
    "    print(words[0][0]+ words[-1][0],end=\" \")"
   ]
  },
  {
   "cell_type": "code",
   "execution_count": 2,
   "metadata": {},
   "outputs": [
    {
     "name": "stdout",
     "output_type": "stream",
     "text": [
      "['Ajay', 'Singh']\n",
      "['Aakash', 'Kumar', 'Singh']\n",
      "['Zaid', 'Kamil']\n"
     ]
    }
   ],
   "source": [
    "full_name = ['Ajay Singh','Aakash Kumar Singh','Zaid Kamil']\n",
    "short_name = []\n",
    "for nm in full_name :\n",
    "    words = nm.split()\n",
    "    print(words)"
   ]
  },
  {
   "cell_type": "code",
   "execution_count": 5,
   "metadata": {},
   "outputs": [
    {
     "name": "stdout",
     "output_type": "stream",
     "text": [
      "A S\n",
      "A S\n",
      "Z K\n"
     ]
    }
   ],
   "source": [
    "full_name = ['Ajay Singh','Aakash Kumar Singh','Zaid Kamil']\n",
    "short_name = []\n",
    "for nm in full_name :\n",
    "    words = nm.split()\n",
    "    print(words[0][0], words[-1][0])\n",
    "    short_name.append(words)\n",
    "   "
   ]
  },
  {
   "cell_type": "code",
   "execution_count": null,
   "metadata": {},
   "outputs": [],
   "source": []
  }
 ],
 "metadata": {
  "kernelspec": {
   "display_name": "base",
   "language": "python",
   "name": "python3"
  },
  "language_info": {
   "codemirror_mode": {
    "name": "ipython",
    "version": 3
   },
   "file_extension": ".py",
   "mimetype": "text/x-python",
   "name": "python",
   "nbconvert_exporter": "python",
   "pygments_lexer": "ipython3",
   "version": "3.11.4"
  },
  "orig_nbformat": 4
 },
 "nbformat": 4,
 "nbformat_minor": 2
}
