{
 "cells": [
  {
   "cell_type": "markdown",
   "metadata": {},
   "source": [
    "# DICTIONARY\n",
    "dictionaries is used to keep nested data "
   ]
  },
  {
   "cell_type": "code",
   "execution_count": 1,
   "metadata": {},
   "outputs": [],
   "source": [
    "book  = {\n",
    "    'title':    'Think and Grow Rich',\n",
    "    'Author' :  'Napolean Hill',\n",
    "    'price' :   399,\n",
    "    'publisher': 'jyco Publisher',\n",
    "    'Year' :      1999,\n",
    "    'pages' : '500',\n",
    "    'langusges' : ['Hindi','english','urdu','Spanish']\n",
    "}"
   ]
  },
  {
   "cell_type": "code",
   "execution_count": 3,
   "metadata": {},
   "outputs": [
    {
     "name": "stdout",
     "output_type": "stream",
     "text": [
      "{'title': 'Think and Grow Rich', 'Author': 'Napolean Hill', 'price': 399, 'publisher': 'jyco Publisher', 'Year': 1999, 'pages': '500', 'langusges': ['Hindi', 'english', 'urdu', 'Spanish'], 'rating': 4.9, 'type': 'paperback'}\n"
     ]
    }
   ],
   "source": [
    "#to add something we use this\n",
    "\n",
    "book ['rating'] = 4.9\n",
    "book ['type'] = 'paperback'\n",
    "print(book)"
   ]
  },
  {
   "cell_type": "code",
   "execution_count": 4,
   "metadata": {},
   "outputs": [
    {
     "data": {
      "text/plain": [
       "'500'"
      ]
     },
     "execution_count": 4,
     "metadata": {},
     "output_type": "execute_result"
    }
   ],
   "source": [
    "book ['pages']"
   ]
  },
  {
   "cell_type": "code",
   "execution_count": 5,
   "metadata": {},
   "outputs": [
    {
     "data": {
      "text/plain": [
       "'jyco Publisher'"
      ]
     },
     "execution_count": 5,
     "metadata": {},
     "output_type": "execute_result"
    }
   ],
   "source": [
    "book['publisher']"
   ]
  },
  {
   "cell_type": "code",
   "execution_count": 7,
   "metadata": {},
   "outputs": [
    {
     "ename": "KeyError",
     "evalue": "'website'",
     "output_type": "error",
     "traceback": [
      "\u001b[1;31m---------------------------------------------------------------------------\u001b[0m",
      "\u001b[1;31mKeyError\u001b[0m                                  Traceback (most recent call last)",
      "Cell \u001b[1;32mIn[7], line 1\u001b[0m\n\u001b[1;32m----> 1\u001b[0m book[\u001b[39m'\u001b[39m\u001b[39mwebsite\u001b[39m\u001b[39m'\u001b[39m]\n",
      "\u001b[1;31mKeyError\u001b[0m: 'website'"
     ]
    }
   ],
   "source": [
    "book['website'] #it will show key error because website does not exist for this book"
   ]
  },
  {
   "cell_type": "code",
   "execution_count": 8,
   "metadata": {},
   "outputs": [
    {
     "data": {
      "text/plain": [
       "'500'"
      ]
     },
     "execution_count": 8,
     "metadata": {},
     "output_type": "execute_result"
    }
   ],
   "source": [
    "#to delete something we use .pop\n",
    "\n",
    "book.pop('pages')"
   ]
  },
  {
   "cell_type": "code",
   "execution_count": 9,
   "metadata": {},
   "outputs": [
    {
     "data": {
      "text/plain": [
       "{'title': 'Think and Grow Rich',\n",
       " 'Author': 'Napolean Hill',\n",
       " 'price': 399,\n",
       " 'publisher': 'jyco Publisher',\n",
       " 'Year': 1999,\n",
       " 'langusges': ['Hindi', 'english', 'urdu', 'Spanish'],\n",
       " 'rating': 4.9,\n",
       " 'type': 'paperback'}"
      ]
     },
     "execution_count": 9,
     "metadata": {},
     "output_type": "execute_result"
    }
   ],
   "source": [
    "book"
   ]
  },
  {
   "cell_type": "code",
   "execution_count": 11,
   "metadata": {},
   "outputs": [
    {
     "name": "stdout",
     "output_type": "stream",
     "text": [
      "{'title': 'Think and Grow Rich', 'Author': 'Napolean Hill', 'price': 399, 'publisher': 'jyco Publisher', 'Year': 1999, 'langusges': ['Hindi', 'english', 'urdu', 'Spanish'], 'rating': 4.9, 'type': 'paperback', 'sell': '5 million copies'}\n"
     ]
    }
   ],
   "source": [
    "book['sell'] = '5 million copies'\n",
    "print(book)"
   ]
  },
  {
   "cell_type": "code",
   "execution_count": 12,
   "metadata": {},
   "outputs": [
    {
     "data": {
      "text/plain": [
       "{'title': 'Think and Grow Rich',\n",
       " 'Author': 'Napolean Hill',\n",
       " 'price': 399,\n",
       " 'publisher': 'jyco Publisher',\n",
       " 'Year': 1999,\n",
       " 'langusges': ['Hindi', 'english', 'urdu', 'Spanish'],\n",
       " 'rating': 4.9,\n",
       " 'type': 'paperback',\n",
       " 'sell': '5 million copies'}"
      ]
     },
     "execution_count": 12,
     "metadata": {},
     "output_type": "execute_result"
    }
   ],
   "source": [
    "book"
   ]
  },
  {
   "cell_type": "code",
   "execution_count": 13,
   "metadata": {},
   "outputs": [
    {
     "data": {
      "text/plain": [
       "['title',\n",
       " 'Author',\n",
       " 'price',\n",
       " 'publisher',\n",
       " 'Year',\n",
       " 'langusges',\n",
       " 'rating',\n",
       " 'type',\n",
       " 'sell']"
      ]
     },
     "execution_count": 13,
     "metadata": {},
     "output_type": "execute_result"
    }
   ],
   "source": [
    "list(book.keys())"
   ]
  },
  {
   "cell_type": "code",
   "execution_count": 14,
   "metadata": {},
   "outputs": [
    {
     "data": {
      "text/plain": [
       "['Think and Grow Rich',\n",
       " 'Napolean Hill',\n",
       " 399,\n",
       " 'jyco Publisher',\n",
       " 1999,\n",
       " ['Hindi', 'english', 'urdu', 'Spanish'],\n",
       " 4.9,\n",
       " 'paperback',\n",
       " '5 million copies']"
      ]
     },
     "execution_count": 14,
     "metadata": {},
     "output_type": "execute_result"
    }
   ],
   "source": [
    "list(book.values())"
   ]
  },
  {
   "cell_type": "code",
   "execution_count": 16,
   "metadata": {},
   "outputs": [
    {
     "data": {
      "text/plain": [
       "[('title', 'Think and Grow Rich'),\n",
       " ('Author', 'Napolean Hill'),\n",
       " ('price', 399),\n",
       " ('publisher', 'jyco Publisher'),\n",
       " ('Year', 1999),\n",
       " ('langusges', ['Hindi', 'english', 'urdu', 'Spanish']),\n",
       " ('rating', 4.9),\n",
       " ('type', 'paperback'),\n",
       " ('sell', '5 million copies')]"
      ]
     },
     "execution_count": 16,
     "metadata": {},
     "output_type": "execute_result"
    }
   ],
   "source": [
    "list(book.items()) "
   ]
  },
  {
   "cell_type": "code",
   "execution_count": 15,
   "metadata": {},
   "outputs": [
    {
     "data": {
      "text/plain": [
       "'jyco Publisher'"
      ]
     },
     "execution_count": 15,
     "metadata": {},
     "output_type": "execute_result"
    }
   ],
   "source": [
    "book.get('publisher')"
   ]
  },
  {
   "cell_type": "code",
   "execution_count": 17,
   "metadata": {},
   "outputs": [
    {
     "data": {
      "text/plain": [
       "'jyco Publisher'"
      ]
     },
     "execution_count": 17,
     "metadata": {},
     "output_type": "execute_result"
    }
   ],
   "source": [
    "book.get('publisher','not found')"
   ]
  },
  {
   "cell_type": "code",
   "execution_count": 19,
   "metadata": {},
   "outputs": [
    {
     "data": {
      "text/plain": [
       "'not found'"
      ]
     },
     "execution_count": 19,
     "metadata": {},
     "output_type": "execute_result"
    }
   ],
   "source": [
    "book.get('pUblisher', 'not found')"
   ]
  },
  {
   "cell_type": "code",
   "execution_count": 26,
   "metadata": {},
   "outputs": [
    {
     "name": "stdout",
     "output_type": "stream",
     "text": [
      "{'godzilla': 7.8, 'pathaan': 9.0, 'inspector avinash': 6.6}\n"
     ]
    }
   ],
   "source": [
    "myrating = {}\n",
    "for i in range(1,4):\n",
    "    name = input(f'enter the name of the movie {i}: ')\n",
    "    rating = float(input (f'enter the rating of the movie {i}: '))\n",
    "    myrating [name] = rating\n",
    "print(myrating)    "
   ]
  },
  {
   "cell_type": "code",
   "execution_count": 27,
   "metadata": {},
   "outputs": [],
   "source": [
    "book = {\n",
    "    'book1':{\n",
    "    'title':    'Think and Grow Rich',\n",
    "    'Author' :  'Napolean Hill',\n",
    "    'price' :   399,\n",
    "    'publisher': 'jyco Publisher',\n",
    "    'Year' :      1999,\n",
    "    'pages' : '500',\n",
    "    },\n",
    "    \n",
    "    'book2':{\n",
    "    'title':    'Rich dad poor dad',\n",
    "    'Author' :  'robert kioyosiki',\n",
    "    'price' :   199,\n",
    "    'publisher': 'jyco Publisher',\n",
    "    'Year' :      1995,\n",
    "    'pages' : '350',\n",
    "    },\n",
    "\n",
    "    \n",
    "\n",
    "    'book3':{\n",
    "    'title':    '  lifes amazing secret',\n",
    "    'Author' :  'gaur gopal das',\n",
    "    'price' :   199,\n",
    "    'publisher': 'krishna publication',\n",
    "    'Year' :      2015,\n",
    "    'pages' : '150',\n",
    "     }\n",
    "}    "
   ]
  },
  {
   "cell_type": "code",
   "execution_count": 33,
   "metadata": {},
   "outputs": [
    {
     "name": "stdout",
     "output_type": "stream",
     "text": [
      "book1\n",
      "\t title = Think and Grow Rich\n",
      "\t Author = Napolean Hill\n",
      "\t price = 399\n",
      "\t publisher = jyco Publisher\n",
      "\t Year = 1999\n",
      "\t pages = 500\n",
      "book2\n",
      "\t title = Rich dad poor dad\n",
      "\t Author = robert kioyosiki\n",
      "\t price = 199\n",
      "\t publisher = jyco Publisher\n",
      "\t Year = 1995\n",
      "\t pages = 350\n",
      "book3\n",
      "\t title =   lifes amazing secret\n",
      "\t Author = gaur gopal das\n",
      "\t price = 199\n",
      "\t publisher = krishna publication\n",
      "\t Year = 2015\n",
      "\t pages = 150\n"
     ]
    }
   ],
   "source": [
    "for name, detail in book.items(  ):\n",
    "    print(name)\n",
    "    for k,v in detail.items(  ):\n",
    "        print(f\"\\t {k} = {v}\")"
   ]
  },
  {
   "cell_type": "code",
   "execution_count": 34,
   "metadata": {},
   "outputs": [
    {
     "name": "stdout",
     "output_type": "stream",
     "text": [
      "book3 {'title': '  lifes amazing secret', 'Author': 'gaur gopal das', 'price': 199, 'publisher': 'krishna publication', 'Year': 2015, 'pages': '150'}\n"
     ]
    }
   ],
   "source": [
    "query = 'lifes amazing secret'\n",
    "for name,detail in book.items():\n",
    "    if query in detail['title']:\n",
    "        print(name, detail)"
   ]
  },
  {
   "cell_type": "code",
   "execution_count": 37,
   "metadata": {},
   "outputs": [
    {
     "data": {
      "text/plain": [
       "{'book1': {'title': 'Think and Grow Rich',\n",
       "  'Author': 'Napolean Hill',\n",
       "  'price': 399,\n",
       "  'publisher': 'jyco Publisher',\n",
       "  'Year': 1999,\n",
       "  'pages': '500'},\n",
       " 'book2': {'title': 'Rich dad poor dad',\n",
       "  'Author': 'robert kioyosiki',\n",
       "  'price': 199,\n",
       "  'publisher': 'jyco Publisher',\n",
       "  'Year': 1995,\n",
       "  'pages': '350'},\n",
       " 'book3': {'title': '  lifes amazing secret',\n",
       "  'Author': 'gaur gopal das',\n",
       "  'price': 199,\n",
       "  'publisher': 'krishna publication',\n",
       "  'Year': 2015,\n",
       "  'pages': '150'}}"
      ]
     },
     "execution_count": 37,
     "metadata": {},
     "output_type": "execute_result"
    }
   ],
   "source": [
    "book "
   ]
  },
  {
   "cell_type": "code",
   "execution_count": 41,
   "metadata": {},
   "outputs": [
    {
     "name": "stdout",
     "output_type": "stream",
     "text": [
      "{1: 1, 2: 4, 3: 9, 4: 16, 5: 25, 6: 36, 7: 49, 8: 64, 9: 81, 10: 100}   \n"
     ]
    }
   ],
   "source": [
    "#wap to create dictionary that store numbers and their squares\n",
    "Number= {}\n",
    "number = [1,2,3,4,5,6,7,8,9,10]\n",
    "for i in number:\n",
    "    square = i*i\n",
    "    Number[i] =  square\n",
    "print(Number, \"  \")    \n",
    "    "
   ]
  },
  {
   "cell_type": "markdown",
   "metadata": {},
   "source": [
    "Ques:-  WAP to ask user to enter the item  and its price and then store it in a dictionary , the program should stop when the user wants hint - while loop "
   ]
  },
  {
   "cell_type": "code",
   "execution_count": 44,
   "metadata": {},
   "outputs": [
    {
     "name": "stdout",
     "output_type": "stream",
     "text": [
      "{'shirt': 1000, 'coat': 5000}\n"
     ]
    }
   ],
   "source": [
    "items = {}\n",
    "while True:\n",
    "    item = input('enter name:')\n",
    "    if not item :\n",
    "        break\n",
    "    price = int(input('enter price:'))\n",
    "    items[item] = price\n",
    "print(items)    "
   ]
  },
  {
   "cell_type": "code",
   "execution_count": null,
   "metadata": {},
   "outputs": [],
   "source": []
  }
 ],
 "metadata": {
  "kernelspec": {
   "display_name": "base",
   "language": "python",
   "name": "python3"
  },
  "language_info": {
   "codemirror_mode": {
    "name": "ipython",
    "version": 3
   },
   "file_extension": ".py",
   "mimetype": "text/x-python",
   "name": "python",
   "nbconvert_exporter": "python",
   "pygments_lexer": "ipython3",
   "version": "3.11.4"
  },
  "orig_nbformat": 4
 },
 "nbformat": 4,
 "nbformat_minor": 2
}
