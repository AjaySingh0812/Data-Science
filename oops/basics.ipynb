{
 "cells": [
  {
   "cell_type": "code",
   "execution_count": 1,
   "metadata": {},
   "outputs": [
    {
     "name": "stdout",
     "output_type": "stream",
     "text": [
      "<class 'str'>\n"
     ]
    }
   ],
   "source": [
    "x  = \"hello\"\n",
    "print(type(x))"
   ]
  },
  {
   "cell_type": "markdown",
   "metadata": {},
   "source": [
    "# oop\n",
    " - class\n",
    " - objects\n",
    " - method\n",
    "    -   constructor\n",
    "    -   instance method\n",
    "- inheritance\n",
    "- multiple inheritance\n",
    "- data class\n",
    "- operator overloading"
   ]
  },
  {
   "cell_type": "code",
   "execution_count": 12,
   "metadata": {},
   "outputs": [],
   "source": [
    "#whats app example\n",
    "class conversation:\n",
    "    name = \" \"\n",
    "    message = \"\"\n",
    "    def show (self): #self is a keyword just like if in java\n",
    "        print(\"Name:\", self.name)\n",
    "        print(\"Message:\", self.message)\n"
   ]
  },
  {
   "cell_type": "code",
   "execution_count": 4,
   "metadata": {},
   "outputs": [
    {
     "data": {
      "text/plain": [
       "' '"
      ]
     },
     "execution_count": 4,
     "metadata": {},
     "output_type": "execute_result"
    }
   ],
   "source": [
    "conversation.name"
   ]
  },
  {
   "cell_type": "code",
   "execution_count": 15,
   "metadata": {},
   "outputs": [
    {
     "name": "stdout",
     "output_type": "stream",
     "text": [
      "<__main__.conversation object at 0x000002BBB8F8BED0> <__main__.conversation object at 0x000002BBB8F73910>\n"
     ]
    }
   ],
   "source": [
    "c1  = conversation() #object\n",
    "c2 = conversation() #object\n",
    "c3 = conversation() #object\n",
    "print(c1, c2)"
   ]
  },
  {
   "cell_type": "code",
   "execution_count": 19,
   "metadata": {},
   "outputs": [],
   "source": [
    "c1.name = 'raj'\n",
    "c1.message = \"hello\"\n",
    "c2.name = 'rahul'\n",
    "c2.message = \"hi\"\n",
    "c3.name = 'Rahul'\n",
    "c3.message = \"hello bro\""
   ]
  },
  {
   "cell_type": "code",
   "execution_count": 20,
   "metadata": {},
   "outputs": [
    {
     "name": "stdout",
     "output_type": "stream",
     "text": [
      "Name: raj\n",
      "Message: hello\n",
      "Name: rahul\n",
      "Message: hi\n",
      "Name: Rahul\n",
      "Message: hello bro\n"
     ]
    }
   ],
   "source": [
    "c1.show()\n",
    "c2.show()\n",
    "c3.show()"
   ]
  },
  {
   "cell_type": "code",
   "execution_count": 21,
   "metadata": {},
   "outputs": [
    {
     "name": "stdout",
     "output_type": "stream",
     "text": [
      "raj hello\n"
     ]
    }
   ],
   "source": [
    "print(c1.name, c1.message)"
   ]
  },
  {
   "cell_type": "markdown",
   "metadata": {},
   "source": [
    "if we have to write name of 500,600 peoples name it will take more time but if we write c1, c2, c3 that is conversation 1,2,3 it will be easy."
   ]
  },
  {
   "cell_type": "code",
   "execution_count": 26,
   "metadata": {},
   "outputs": [],
   "source": [
    "class Cat:\n",
    "    def __init__(self, breed, color, age, gender, type=\"pet\"):\n",
    "        self.breed = breed\n",
    "        self.color = color\n",
    "        self.age = age\n",
    "        self.gender = gender\n",
    "        self.type = type\n",
    "        self.is_hungry = True\n",
    "    \n",
    "    def info(self):\n",
    "        print(f'Breed :{self.breed}')\n",
    "        print(f'Color :{self.color}')\n",
    "        print(f'Age :{self.age}')\n",
    "        print(f'Gender:{self.gender}')\n",
    "        print(f'Type :{self.type}')\n",
    "        print(f'Is Hungry :{\"Yes\" if self.is_hungry else \"No\"}')  \n",
    "        "
   ]
  },
  {
   "cell_type": "code",
   "execution_count": 27,
   "metadata": {},
   "outputs": [],
   "source": [
    "tom = Cat('idk', 'grey', 100, 'male')\n",
    "snowbell = Cat('Persian', 'white', 3, 'female')\n",
    "blacky = Cat('Street cat', 'black', 4, 'male', 'stray')"
   ]
  },
  {
   "cell_type": "code",
   "execution_count": 29,
   "metadata": {},
   "outputs": [],
   "source": [
    "blacky.is_hungry = False"
   ]
  },
  {
   "cell_type": "code",
   "execution_count": 30,
   "metadata": {},
   "outputs": [
    {
     "name": "stdout",
     "output_type": "stream",
     "text": [
      "🐈\n",
      "Breed :idk\n",
      "Color :grey\n",
      "Age :100\n",
      "Gender:male\n",
      "Type :pet\n",
      "Is Hungry :Yes\n",
      "🐈\n",
      "Breed :Persian\n",
      "Color :white\n",
      "Age :3\n",
      "Gender:female\n",
      "Type :pet\n",
      "Is Hungry :Yes\n",
      "🐈\n",
      "Breed :Street cat\n",
      "Color :black\n",
      "Age :4\n",
      "Gender:male\n",
      "Type :stray\n",
      "Is Hungry :No\n"
     ]
    }
   ],
   "source": [
    "print('🐈')\n",
    "tom.info()\n",
    "print('🐈')\n",
    "snowbell.info()\n",
    "print('🐈')\n",
    "blacky.info() "
   ]
  },
  {
   "cell_type": "code",
   "execution_count": 12,
   "metadata": {},
   "outputs": [],
   "source": [
    "class ListEx(list):\n",
    "    def filter(self, dtype = 'int'):\n",
    "        if dtype == 'int':\n",
    "            for item in self :\n",
    "                if isinstance(item, int):\n",
    "                    yield item\n",
    "        if dtype == 'str':\n",
    "            for item in self :\n",
    "                if isinstance(item, str):\n",
    "                    yield item\n",
    "        if dtype == 'list':\n",
    "            for item in self :\n",
    "                if isinstance(item, list):\n",
    "                    yield item            \n",
    "             \n",
    "\n"
   ]
  },
  {
   "cell_type": "code",
   "execution_count": 13,
   "metadata": {},
   "outputs": [
    {
     "data": {
      "text/plain": [
       "[1, 2, 3, 4, 5]"
      ]
     },
     "execution_count": 13,
     "metadata": {},
     "output_type": "execute_result"
    }
   ],
   "source": [
    "x = ListEx([ 1,2,3,4,5, 'a', 'b', 'c'])\n",
    "list(x.filter())"
   ]
  },
  {
   "cell_type": "code",
   "execution_count": 14,
   "metadata": {},
   "outputs": [
    {
     "data": {
      "text/plain": [
       "['a', 'b', 'c']"
      ]
     },
     "execution_count": 14,
     "metadata": {},
     "output_type": "execute_result"
    }
   ],
   "source": [
    "list (x.filter('str'))"
   ]
  },
  {
   "cell_type": "code",
   "execution_count": 15,
   "metadata": {},
   "outputs": [
    {
     "data": {
      "text/plain": [
       "[[1, 2, 3], [5, 6, 7]]"
      ]
     },
     "execution_count": 15,
     "metadata": {},
     "output_type": "execute_result"
    }
   ],
   "source": [
    "x = ListEx([[1,2,3],[5,6,7], 'hello', 1,2,3])\n",
    "list(x.filter('list'))"
   ]
  },
  {
   "cell_type": "markdown",
   "metadata": {},
   "source": [
    "- Data Class"
   ]
  },
  {
   "cell_type": "code",
   "execution_count": 34,
   "metadata": {},
   "outputs": [],
   "source": [
    "from dataclasses import dataclass\n",
    "from datetime import datetime\n",
    "\n",
    "@dataclass\n",
    "class Conversation:\n",
    "    name: str\n",
    "    message: str\n",
    "    profile_pic: str\n",
    "    time:datetime = datetime.now()\n",
    "    status: str = 'sent'\n",
    "    is_group: bool = False\n",
    "    is_muted: bool = False\n",
    "    \n",
    "     "
   ]
  },
  {
   "cell_type": "code",
   "execution_count": 36,
   "metadata": {},
   "outputs": [],
   "source": [
    "c1 = Conversation('Raj', 'Hello', 'raj.jpg')\n",
    "c2 = Conversation('Rahul', 'Hi',  'rahul.jpg')\n",
    "c3 = Conversation('Rohan', 'Hola', 'rohan.jpg', status='seen')\n",
    "c4 = Conversation('Gadhe', 'Hi', 'group.jpg', is_group=True) "
   ]
  },
  {
   "cell_type": "markdown",
   "metadata": {},
   "source": [
    "- Operator Overloading"
   ]
  },
  {
   "cell_type": "code",
   "execution_count": 37,
   "metadata": {},
   "outputs": [],
   "source": [
    " \n",
    "class Person:\n",
    "    def __init__(self, name, age):\n",
    "        self.name = name\n",
    "        self.age = age\n",
    "    def __str__(self):\n",
    "        return self.name\n",
    "         \n",
    "      "
   ]
  },
  {
   "cell_type": "code",
   "execution_count": 38,
   "metadata": {},
   "outputs": [],
   "source": [
    "p1 = Person('Raj', 20)\n",
    "p3 = Person('Rohan', 22)\n",
    "p2 = Person('Rahul', 21)"
   ]
  },
  {
   "cell_type": "code",
   "execution_count": 39,
   "metadata": {},
   "outputs": [
    {
     "name": "stdout",
     "output_type": "stream",
     "text": [
      "Raj Rahul Rohan\n"
     ]
    }
   ],
   "source": [
    "print(p1, p2, p3)"
   ]
  },
  {
   "cell_type": "code",
   "execution_count": null,
   "metadata": {},
   "outputs": [],
   "source": []
  }
 ],
 "metadata": {
  "kernelspec": {
   "display_name": "base",
   "language": "python",
   "name": "python3"
  },
  "language_info": {
   "codemirror_mode": {
    "name": "ipython",
    "version": 3
   },
   "file_extension": ".py",
   "mimetype": "text/x-python",
   "name": "python",
   "nbconvert_exporter": "python",
   "pygments_lexer": "ipython3",
   "version": "3.11.4"
  },
  "orig_nbformat": 4
 },
 "nbformat": 4,
 "nbformat_minor": 2
}
